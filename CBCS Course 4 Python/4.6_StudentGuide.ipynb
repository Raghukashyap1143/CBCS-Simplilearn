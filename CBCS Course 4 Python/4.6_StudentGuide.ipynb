{
 "cells": [
  {
   "cell_type": "markdown",
   "id": "df2e9255",
   "metadata": {},
   "source": [
    "# Lesson 4.6: Parsing Log Files\n",
    "# Activity 6A: Opening and Reading Files\n",
    "\n",
    "\n",
    "## Open a File\n",
    "\n",
    "The easiest way to open a file is using the `open` method, which is built-in in Python. \n",
    "\n",
    "`file_name = ”/voc/public/passwd”`\n",
    "\n",
    "`open_file = open(file_name)`\n",
    "\n",
    "Once you have opened the file, the object will have a a few methods available. Here are some useful ones:\n",
    "* ```close()```\tCloses the file\n",
    "* ```read()```\tReturns the file content\n",
    "* ```readline()```\tReturns one line from the file\n",
    "* ```readlines()```\tReturns a list of lines from the file\n",
    "* ```seek()```\tChange the file position\n",
    "* ```tell()```\tReturns the current file position\n",
    "\n",
    "Let's start with the `open` method. The command is:\n",
    "`file_name=open('file_name',mode)`\n",
    "\n",
    "Here are descriptions of all the modes:\n",
    "* ```r```: Opens a file for reading.\n",
    "* ```w```: Opens a file for writing. Creates a new file if it does not exist or truncates the file if it exists.\n",
    "* ```x```: Opens a file for exclusive creation. If the file already exists, the operation fails.\n",
    "* ```a```: Opens a file for appending at the end of the file without truncating it. Creates a new file if it does not exist.\n",
    "* ```t```: Opens in text mode.\n",
    "* ```b```: Opens in binary mode.\n",
    "* ```+```: Opens a file for updating.\n"
   ]
  },
  {
   "cell_type": "code",
   "execution_count": null,
   "id": "0e79ad51",
   "metadata": {},
   "outputs": [],
   "source": [
    "file_name = \"/voc/public/passwd\"\n",
    "open_file = open( file_name, \"r\")\n"
   ]
  },
  {
   "cell_type": "markdown",
   "id": "33bb0508",
   "metadata": {},
   "source": [
    "To see the content of the file, use a method called `read()`. Let’s continue with the example of the `/voc/public/passwd` file."
   ]
  },
  {
   "cell_type": "code",
   "execution_count": null,
   "id": "3e971db9",
   "metadata": {},
   "outputs": [],
   "source": [
    "open_file.read()\n"
   ]
  },
  {
   "cell_type": "markdown",
   "id": "b0535ff2",
   "metadata": {},
   "source": [
    "As we can see, this is not organized in an easy-to-read way. Another thing that happened is the cursor moved to the end of the file.\n",
    "If you are interested to see where the cursor is in the file, use the `tell()` method."
   ]
  },
  {
   "cell_type": "code",
   "execution_count": null,
   "id": "dc1b014b",
   "metadata": {},
   "outputs": [],
   "source": [
    "open_file.tell()"
   ]
  },
  {
   "cell_type": "markdown",
   "id": "f7ee6fb0",
   "metadata": {},
   "source": [
    "If you want to go to the beginning of the file, use the `seek()` method. This goes back to the beginning."
   ]
  },
  {
   "cell_type": "code",
   "execution_count": null,
   "id": "b5b284c6",
   "metadata": {},
   "outputs": [],
   "source": [
    "open_file.seek(0)\n",
    "open_file.tell()"
   ]
  },
  {
   "cell_type": "markdown",
   "id": "6cdf11a5",
   "metadata": {},
   "source": [
    "If you want to read line by line, use the `readline()` method."
   ]
  },
  {
   "cell_type": "code",
   "execution_count": null,
   "id": "21dee02b",
   "metadata": {},
   "outputs": [],
   "source": [
    "open_file.readline()"
   ]
  },
  {
   "cell_type": "markdown",
   "id": "18cb4dde",
   "metadata": {},
   "source": [
    "Using this method, you can see the first line. After you read the first line, the cursor moves one line down. If you ask to print the line again, you will get the second line and so on."
   ]
  },
  {
   "cell_type": "code",
   "execution_count": null,
   "id": "4beb21ad",
   "metadata": {},
   "outputs": [],
   "source": [
    "open_file.readline()"
   ]
  },
  {
   "cell_type": "markdown",
   "id": "3c718374",
   "metadata": {},
   "source": [
    "Since we are interested in seeing all of the lines in an easy-to-read format, use a for loop.\n",
    "Using `readlines()` will put the contents if the file in a list. Once you have it in a list you can loop over it using a for loop."
   ]
  },
  {
   "cell_type": "code",
   "execution_count": null,
   "id": "92d4d0d4",
   "metadata": {},
   "outputs": [],
   "source": [
    "for line in open_file.readlines():\n",
    "    print(line)"
   ]
  },
  {
   "cell_type": "markdown",
   "id": "c101f672",
   "metadata": {},
   "source": [
    "**Note:** Notice the use of `readlines()` instead of `readline()`. It is better method to read line-by-line than the `readline()` method."
   ]
  },
  {
   "cell_type": "markdown",
   "id": "b93d3160",
   "metadata": {},
   "source": [
    "## Close a File\n",
    "\n",
    "When you finish reading a file you need to close it to vacate the space in memory. You can do that by using the `close()` method."
   ]
  },
  {
   "cell_type": "code",
   "execution_count": null,
   "id": "40eb2420",
   "metadata": {},
   "outputs": [],
   "source": [
    "open_file.close()"
   ]
  },
  {
   "cell_type": "markdown",
   "id": "52b8c44d",
   "metadata": {},
   "source": [
    "To prevent you from forgetting to close a file, use a method that opens and closes a file automatically. This can be done using the `with()` method.\n",
    "\n",
    "**Note:** There is no need to close the file here."
   ]
  },
  {
   "cell_type": "markdown",
   "id": "e722f793",
   "metadata": {},
   "source": [
    "```with open(file_name,'r') as f:```\n"
   ]
  },
  {
   "cell_type": "code",
   "execution_count": null,
   "id": "0a884a5b",
   "metadata": {},
   "outputs": [],
   "source": [
    "file_name=\"/voc/public/passwd\"\n",
    "with open(file_name,'r') as f:\n",
    "    for line in f:\n",
    "        print(line)"
   ]
  },
  {
   "cell_type": "markdown",
   "id": "17a26eb5",
   "metadata": {},
   "source": [
    "## Instructor Demo\n",
    "Write a script that:\n",
    "* Opens the `/voc/public/passwd` file\n",
    "* Reads the entire file\n",
    "* Goes back to the beginning of the file \n",
    "* Iterates over the file and prints each line\n",
    "* Closes the file "
   ]
  },
  {
   "cell_type": "code",
   "execution_count": null,
   "id": "4b8d83a2",
   "metadata": {},
   "outputs": [],
   "source": [
    "def show_file(f):\n",
    "    print(f.read())\n",
    "    f.seek(0)\n",
    "    for line in f.readlines():\n",
    "        print(line)\n",
    "    f.close()\n",
    "\n",
    "def main():\n",
    "    f=open(\"/voc/public/passwd\")\n",
    "    show_file(f)\n",
    "main()"
   ]
  },
  {
   "cell_type": "markdown",
   "id": "0c855415",
   "metadata": {},
   "source": [
    "## Student Exercise \n",
    "### Problem 1 \n",
    "Write a script that:\n",
    "* Opens the `log.txt` file in your current directory \n",
    "* Prints the entire file \n",
    "* Goes back to the beginning of the file \n",
    "* Prints only the first line\n",
    "* Prints each line of the log file \n",
    "* Closes the file "
   ]
  },
  {
   "cell_type": "code",
   "execution_count": null,
   "id": "554bb7ea",
   "metadata": {},
   "outputs": [],
   "source": []
  },
  {
   "cell_type": "markdown",
   "id": "3a99a4b4",
   "metadata": {},
   "source": [
    "### Problem 2\n",
    "Write a script that:\n",
    "* Opens the `log1.txt` file \n",
    "* Prints every line in the file without the new line character \n",
    "* Closes the file "
   ]
  },
  {
   "cell_type": "code",
   "execution_count": null,
   "id": "ec8dc296",
   "metadata": {},
   "outputs": [],
   "source": []
  },
  {
   "cell_type": "markdown",
   "id": "713df6a6",
   "metadata": {},
   "source": [
    "### Problem 3\n",
    "Write a script that:\n",
    "* Opens the `/voc/public/passwd` file \n",
    "* Counts how many lines are in the file \n",
    "* Prints that number\n",
    "* Closes the file "
   ]
  },
  {
   "cell_type": "code",
   "execution_count": null,
   "id": "a4b75eab",
   "metadata": {},
   "outputs": [],
   "source": []
  },
  {
   "cell_type": "markdown",
   "id": "1e94de35",
   "metadata": {},
   "source": [
    "# Activity 6B: File Parsing\n",
    "\n",
    "## Instructor Demo\n",
    "\n",
    "Let's try to parse the `passwd` file."
   ]
  },
  {
   "cell_type": "code",
   "execution_count": null,
   "id": "36befcca",
   "metadata": {},
   "outputs": [],
   "source": [
    "with open(\"./voc/public/passwd\") as f:\n",
    "    for line in f.readlines():\n",
    "        list=line.split(\":\")\n",
    "        \n",
    "        user=list[0]\n",
    "        print(\"user: \"+user)\n",
    "        description=list[4]\n",
    "        print(\"description: \"+description)\n",
    "        home_dir=list[5]\n",
    "        print(\"home_dir: \"+home_dir)\n",
    "        print(\"***************\")"
   ]
  },
  {
   "cell_type": "markdown",
   "id": "904a8f7c",
   "metadata": {},
   "source": [
    "Now that you can read the content of a file you can start extracting information from it.\n",
    "As shown previously, the way to parse a file is by first knowing the headers of each column. Each log file will be different, meaning you need to take some time to learn the structure of each log file.\n",
    "\n",
    "Let’s take a look at an Apache file. This file logs every access to this local website.\n",
    "\n",
    "`cat access.log.1`\n",
    "* 10.0.2.17 - - [19/Feb/2022:13:57:30 -0500] \"GET / HTTP/1.1\" 200 10956 \"-\" \"curl/7.68.0\"\n",
    "* 10.0.2.17 - - [19/Feb/2022:13:57:58 -0500] \"GET / HTTP/1.1\" 200 10956 \"-\" \"curl/7.68.0\"\n",
    "\n",
    "As you can see, the first field is the client IP that accesses the website. The second field is the date and time. The third field is the `http` method used to access the website. The result status and finally the last field is the user agent.\n",
    "\n",
    "You can use Python to extract information from this file if you take one line and put it in a string.\n",
    "\n",
    "`list1=line1.split()`\n",
    "\n",
    "```ip.src=list1[0]\n",
    "date=list1[3]\n",
    "Http_metod=list1[5]\n",
    "response_code=list1[8]\n",
    "user_agent=list1[11]\n"
   ]
  },
  {
   "cell_type": "code",
   "execution_count": null,
   "id": "0a80c107",
   "metadata": {},
   "outputs": [],
   "source": [
    "def parse_log(line):\n",
    "     list1=line.split()\n",
    "     #print(list1)\n",
    "     ip_src=list1[0]\n",
    "     date=list1[3]\n",
    "     Date=date.strip(\"[\")\n",
    "     print(\"time: \" + date )\n",
    "     Http_method=list1[5]\n",
    "     print(\"Http_method:\"+Http_method)\n",
    "     Response_code=list1[8]\n",
    "     print(\"Response_code: \"+Response_code)\n",
    "     User_agent=list1[11]\n",
    "     print(\"User_agent: \"+User_agent)\n",
    "     print(\"*********************\")\n",
    "\n",
    "#create a new line with the fields we are interested in \n",
    "                   \n",
    "def main():\n",
    "    with open(\".voc/public/access1.log\") as f:\n",
    "       for line in f.readlines():\n",
    "           parse_log(line)\n",
    "main()"
   ]
  },
  {
   "cell_type": "markdown",
   "id": "05e24289",
   "metadata": {},
   "source": [
    "## Student Exercise\n",
    "### Problem 1 \n",
    "\n",
    "Write a script that:\n",
    "* Opens the `iptablessyslog.txt` file\n",
    "* Iterates over the lines of the file \n",
    "* Prints the IP src, IP dest, src port, dst port, and protocol for each line\n",
    "* Closes the file "
   ]
  },
  {
   "cell_type": "code",
   "execution_count": null,
   "id": "f8dac0f3",
   "metadata": {},
   "outputs": [],
   "source": []
  },
  {
   "cell_type": "markdown",
   "id": "4e7110fb",
   "metadata": {},
   "source": [
    "### Problem 2\n",
    "Write a script that:\n",
    "* Opens the file `network.log`\n",
    "* Iterates over the lines of the file \n",
    "* Prints IP src, IP dst, port src, port dst \n",
    "* Closes the file"
   ]
  },
  {
   "cell_type": "code",
   "execution_count": null,
   "id": "dd3a190e",
   "metadata": {},
   "outputs": [],
   "source": []
  }
 ],
 "metadata": {
  "kernelspec": {
   "display_name": "Python 3 [3.10]",
   "language": "python",
   "name": "python3"
  },
  "language_info": {
   "codemirror_mode": {
    "name": "ipython",
    "version": 3
   },
   "file_extension": ".py",
   "mimetype": "text/x-python",
   "name": "python",
   "nbconvert_exporter": "python",
   "pygments_lexer": "ipython3",
   "version": "3.10.2"
  }
 },
 "nbformat": 4,
 "nbformat_minor": 5
}
