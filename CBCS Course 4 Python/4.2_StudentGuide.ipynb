{
 "cells": [
  {
   "cell_type": "markdown",
   "id": "510538e4",
   "metadata": {},
   "source": [
    "# Lesson 4.2: String Methods"
   ]
  },
  {
   "cell_type": "markdown",
   "id": "3488f023",
   "metadata": {},
   "source": [
    "# Activity 2A: Review\n",
    "## Student Exercise\n",
    "* Create a variable named `email` that accepts an email from user input.\n",
    "* Create a variable named `phone_number` that accepts a phone number from user input.\n",
    "* Print in one line both the email and the phone number you received from the user."
   ]
  },
  {
   "cell_type": "code",
   "execution_count": null,
   "id": "62854442",
   "metadata": {},
   "outputs": [],
   "source": []
  },
  {
   "cell_type": "markdown",
   "id": "91d1b5ac",
   "metadata": {},
   "source": [
    "# Activity 2B: Error Messages \n",
    "\n",
    "## Introduction\n",
    "Before we move on to learn more about different data types, we need to talk about errors. \n",
    "\n",
    "We can accidentally make mistakes when writing a program, and this can lead to errors when we try to run it. A Python program terminates as soon as it encounters an unhandled error. Fortunately, the program will print the cause of the error and the line in the script that caused it. This can help us debug and correct our code. Let’s look at a couple of error message types. \n",
    "\n",
    "### Python Syntax Errors:\n",
    "An error caused by not following the proper structure (syntax) of the language is called a **syntax error** or **parsing error**."
   ]
  },
  {
   "cell_type": "code",
   "execution_count": null,
   "id": "00fc1145",
   "metadata": {},
   "outputs": [],
   "source": [
    "print \"word\""
   ]
  },
  {
   "cell_type": "markdown",
   "id": "c57e1d02",
   "metadata": {},
   "source": [
    "In this line we tried to print without using parentheses. The Python interpreter does not accept that syntax and even tells us how to correct it. The correct way will be to write `print(\"word\")`."
   ]
  },
  {
   "cell_type": "code",
   "execution_count": null,
   "id": "b674864a",
   "metadata": {},
   "outputs": [],
   "source": [
    "print(\"word\")"
   ]
  },
  {
   "cell_type": "markdown",
   "id": "db5e4fc4",
   "metadata": {},
   "source": [
    "### Python Name Errors:\n",
    "Another common mistake is trying to print or do an action on a variable without assigning a value to it. "
   ]
  },
  {
   "cell_type": "code",
   "execution_count": null,
   "id": "dd2111f5",
   "metadata": {},
   "outputs": [],
   "source": [
    "print(Var_1)"
   ]
  },
  {
   "cell_type": "markdown",
   "id": "106c9e82",
   "metadata": {},
   "source": [
    "In this line we never assigned a value to `Var_1` or declared it, so the Python interpreter does not understand what it is. "
   ]
  },
  {
   "cell_type": "code",
   "execution_count": null,
   "id": "4cf258d9",
   "metadata": {},
   "outputs": [],
   "source": [
    "Var_1=\" \"\n",
    "print(Var_1)"
   ]
  },
  {
   "cell_type": "markdown",
   "id": "051fbd22",
   "metadata": {},
   "source": [
    "Another common error is trying to add or concatenate two variables with different data types."
   ]
  },
  {
   "cell_type": "code",
   "execution_count": null,
   "id": "3047da41",
   "metadata": {},
   "outputs": [],
   "source": [
    "num_1 = \"2\"\n",
    "num_2 = 3\n",
    "sum = num_1 + num_2"
   ]
  },
  {
   "cell_type": "markdown",
   "id": "bb306c45",
   "metadata": {},
   "source": [
    "To fix this we will need to cast one of the variables."
   ]
  },
  {
   "cell_type": "code",
   "execution_count": null,
   "id": "e33ff51d",
   "metadata": {},
   "outputs": [],
   "source": [
    "sum = int(num_1) + num_2\n",
    "print(sum)"
   ]
  },
  {
   "cell_type": "markdown",
   "id": "b9305d10",
   "metadata": {},
   "source": [
    "You will encounter many more types of errors while writing scripts. This is the way for Python to inform you what you need to change something. Every time you encounter an error, read carefully what the error is and if not sure, copy the error message to a search engine and read about it. The second thing to notice is what line number the error is."
   ]
  },
  {
   "cell_type": "markdown",
   "id": "e48c9148",
   "metadata": {},
   "source": [
    "## Student Exercise"
   ]
  },
  {
   "cell_type": "markdown",
   "id": "a99fbb70",
   "metadata": {},
   "source": [
    "Each of the following lines contain errors. How can you fix them? Talk to your class about the errors and debug the code."
   ]
  },
  {
   "cell_type": "code",
   "execution_count": null,
   "id": "17914287",
   "metadata": {},
   "outputs": [],
   "source": [
    "print hello world"
   ]
  },
  {
   "cell_type": "code",
   "execution_count": null,
   "id": "614e987b",
   "metadata": {},
   "outputs": [],
   "source": [
    "num_1 = \"10\"\n",
    "num_2 = 10\n",
    "print(\"the sum is: \", num_1 + num_2)"
   ]
  },
  {
   "cell_type": "code",
   "execution_count": null,
   "id": "dde6a549",
   "metadata": {},
   "outputs": [],
   "source": [
    "print(my_name)"
   ]
  },
  {
   "cell_type": "markdown",
   "id": "0b577567",
   "metadata": {},
   "source": [
    "# Activity 2C: String Methods\n",
    "## Introduction\n",
    "Strings in Python have a list of methods that are available. These methods help manipulate and edit strings, which is extremely helpful in working with logs. String methods help us split strings, count the number of characters in a string, and check if a string is a number, alphanumeric character or a letter.\n",
    "\n",
    "The way we use a string method is to write `variable.method()`."
   ]
  },
  {
   "cell_type": "markdown",
   "id": "6b107d28",
   "metadata": {},
   "source": [
    "```\n",
    "name=\"name_1\"\n",
    "name.count()\n",
    "```\n",
    "Some useful methods include: \n",
    "\n",
    "`split()`: Splits the string at the specified separator, and returns a list. We will cover lists in depth in a later lesson. \n",
    "\n",
    "`len()` :Returns the length of a string\n",
    "\n",
    "`count()`: Returns the number of times a specified value occurs in a string\n",
    "\n",
    "`index()`:Returns the  index of a specific character in a string\n",
    "\n",
    "`replace()`: Replaces a specified phrase with another specified phrase\n",
    "\n",
    "`strip()` : Deletes all white spaces\n"
   ]
  },
  {
   "cell_type": "markdown",
   "id": "72f5c6a0",
   "metadata": {},
   "source": [
    "## Instructor Demo \n",
    "\n",
    "Let's take a look at the `split()` method, which splits the string at the specified separator, and returns a list.\n",
    "\n",
    "First, let's define a string."
   ]
  },
  {
   "cell_type": "code",
   "execution_count": null,
   "id": "2e7a9835",
   "metadata": {},
   "outputs": [],
   "source": [
    "name = \"John Doe\""
   ]
  },
  {
   "cell_type": "markdown",
   "id": "64dfb275",
   "metadata": {},
   "source": [
    "If we apply the “split” method, we will get a list that contains ‘John’ and ‘Doe’.\n"
   ]
  },
  {
   "cell_type": "code",
   "execution_count": null,
   "id": "aa942570",
   "metadata": {},
   "outputs": [],
   "source": [
    "print(name.split())"
   ]
  },
  {
   "cell_type": "markdown",
   "id": "44547409",
   "metadata": {},
   "source": [
    "**Note:** When you use split, you create a list of a string. You will encounter lists later, for now you just need to know that a list is an array of variables or values.\n",
    "\n",
    "Another way to do that is to create two variables, with the first variable storing the first name and the second variable storing the last name."
   ]
  },
  {
   "cell_type": "code",
   "execution_count": null,
   "id": "531dcd47",
   "metadata": {},
   "outputs": [],
   "source": [
    "first_name,last_name = name.split()\n",
    "\n",
    "print(first_name)\n",
    "print(last_name)"
   ]
  },
  {
   "cell_type": "markdown",
   "id": "7afaaf5e",
   "metadata": {},
   "source": [
    "The value in the parentheses represents the delimiter, when the default is space. We can choose any delimiter according to what we want to do."
   ]
  },
  {
   "cell_type": "code",
   "execution_count": null,
   "id": "1e00f5c2",
   "metadata": {},
   "outputs": [],
   "source": [
    "name = \"John:Doe\"\n",
    "first_name,last_name = name.split(\":\")\n",
    "print(first_name)\n",
    "print(last_name)"
   ]
  },
  {
   "cell_type": "markdown",
   "id": "238fb7f5",
   "metadata": {},
   "source": [
    "Let's look at the `len()` method. Let's say we want to count how long a password is that is given to us by a user."
   ]
  },
  {
   "cell_type": "code",
   "execution_count": null,
   "id": "b840867f",
   "metadata": {},
   "outputs": [],
   "source": [
    "password = input(\"please enter a password\")"
   ]
  },
  {
   "cell_type": "markdown",
   "id": "3ab9b22e",
   "metadata": {},
   "source": [
    "Assuming that the user inputted the password `changeme`,  we can now check what the length of the string is."
   ]
  },
  {
   "cell_type": "code",
   "execution_count": null,
   "id": "7beacc77",
   "metadata": {},
   "outputs": [],
   "source": [
    "length = len(password)\n",
    "\n",
    "print(\"The length of the password is \"+ length)\n"
   ]
  },
  {
   "cell_type": "markdown",
   "id": "d4e1f650",
   "metadata": {},
   "source": [
    "If you noticed there is an error, the reason is `len` is a number and we are trying to concatenate with a string. Therefore, we need to use casting to fix this."
   ]
  },
  {
   "cell_type": "code",
   "execution_count": null,
   "id": "a2ce6122",
   "metadata": {},
   "outputs": [],
   "source": [
    "print(\"The length of the password is \" + str(length))"
   ]
  },
  {
   "cell_type": "markdown",
   "id": "25c4997c",
   "metadata": {},
   "source": [
    "**Note:** We will see `len()` when working with other data types and structures later on in these lessons. "
   ]
  },
  {
   "cell_type": "markdown",
   "id": "a8b7696d",
   "metadata": {},
   "source": [
    "Next we'll cover the `count()` method. Let's say we have a long string and want to check how many times a word appears in that string. "
   ]
  },
  {
   "cell_type": "code",
   "execution_count": null,
   "id": "fa1071fb",
   "metadata": {},
   "outputs": [],
   "source": [
    "string = \"Login fail:root, Login fail:user1,Login fail:user2\"\n",
    "\n",
    "print(string.count(\"Login fail\"))"
   ]
  },
  {
   "cell_type": "markdown",
   "id": "fd09a037",
   "metadata": {},
   "source": [
    "As mentioned before, `strip()` will strip all leading and tailing white spaces from a string."
   ]
  },
  {
   "cell_type": "code",
   "execution_count": null,
   "id": "34119137",
   "metadata": {},
   "outputs": [],
   "source": [
    "name = \"    this is a line     \"\n",
    "print(name.strip())"
   ]
  },
  {
   "cell_type": "markdown",
   "id": "ebe4fcca",
   "metadata": {},
   "source": [
    "Another method is `replace`. This will take a character in a line or a word and replace it with another."
   ]
  },
  {
   "cell_type": "code",
   "execution_count": null,
   "id": "49f11f3e",
   "metadata": {},
   "outputs": [],
   "source": [
    "line = \"this is a vbscript script\"\n",
    "print(line.replace(\"vbscript\",\"python\"))"
   ]
  },
  {
   "cell_type": "markdown",
   "id": "12302f29",
   "metadata": {},
   "source": [
    "We can also replace specific occurrences of a word in a text."
   ]
  },
  {
   "cell_type": "code",
   "execution_count": null,
   "id": "47f2b5f7",
   "metadata": {},
   "outputs": [],
   "source": [
    "txt = \"this is a string example....wow!!! this is really string and this is another string\"\n",
    "txt.replace(\"string\",\"num\",2)"
   ]
  },
  {
   "cell_type": "markdown",
   "id": "5501095b",
   "metadata": {},
   "source": [
    "## Student Exercise"
   ]
  },
  {
   "cell_type": "markdown",
   "id": "2c9d9824",
   "metadata": {},
   "source": [
    "### Problem 1\n",
    "`txt = \"I like bananas\"`\n",
    "\n",
    "Replace the word \"bananas\" with the world \"apples\"."
   ]
  },
  {
   "cell_type": "code",
   "execution_count": null,
   "id": "11467b37",
   "metadata": {},
   "outputs": [],
   "source": []
  },
  {
   "cell_type": "markdown",
   "id": "b1cc145d",
   "metadata": {},
   "source": [
    "### Problem 2\n",
    "\n",
    "`txt = \"I love apples; apples are my favorite fruit\"`\n",
    "\n",
    "Count how many times the word \"apple\" appears in the text."
   ]
  },
  {
   "cell_type": "code",
   "execution_count": null,
   "id": "c91c5d4b",
   "metadata": {},
   "outputs": [],
   "source": []
  },
  {
   "cell_type": "markdown",
   "id": "0da5fed8",
   "metadata": {},
   "source": [
    "### Problem 3\n",
    "\n",
    "`txt = \"one one was a race horse, two two was one too.\"`\n",
    "\n",
    "Replace the first two occurrences of the the word 'one' with a '1'."
   ]
  },
  {
   "cell_type": "code",
   "execution_count": null,
   "id": "2528a224",
   "metadata": {},
   "outputs": [],
   "source": []
  },
  {
   "cell_type": "markdown",
   "id": "cbdceef7",
   "metadata": {},
   "source": [
    "\n",
    "### Problem 4\n",
    "\n",
    "`txt = \"      banana   \"`\n",
    "\n",
    "Strip all the white leading and trailing spaces from this string."
   ]
  },
  {
   "cell_type": "code",
   "execution_count": null,
   "id": "c7f18bc2",
   "metadata": {},
   "outputs": [],
   "source": []
  },
  {
   "cell_type": "markdown",
   "id": "3c403eef",
   "metadata": {},
   "source": [
    "### Problem 5 \n",
    "`txt = 'Python is a fun programming language'`\n",
    "\n",
    "Split this text using space as a delimeter."
   ]
  },
  {
   "cell_type": "code",
   "execution_count": null,
   "id": "d89d2870",
   "metadata": {},
   "outputs": [],
   "source": []
  },
  {
   "cell_type": "markdown",
   "id": "13f14507",
   "metadata": {},
   "source": [
    "### Problem 6\n",
    "* Create a variable called `user_name` and receive its value from user input.\n",
    "* Print the length of the username."
   ]
  },
  {
   "cell_type": "code",
   "execution_count": null,
   "id": "e999f599",
   "metadata": {},
   "outputs": [],
   "source": []
  },
  {
   "cell_type": "markdown",
   "id": "97965a64",
   "metadata": {},
   "source": [
    "\n",
    "# Activity 2D: Strings Indexing\n",
    "\n",
    "## Introduction\n",
    "Strings are ordered sequences of character data. Indexing allows you to access individual characters in a string directly by using a numeric value. String indexing is zero-based; the first character in the string has index 0, the next is 1, and so on.\n",
    "\n",
    "In the below image, we have a variable `S` that contains the string`\"ABCDEFGHI\"`. The first character in this string, `\"A\"`, has an index of 0. The second character, `\"B\"`, has an index of 1, and so on. "
   ]
  },
  {
   "attachments": {
    "0C6C808B-AAD6-4FA7-8998-13B7B33A22CF_4_5005_c.jpeg": {
     "image/jpeg": "[encoded data removed]"
    }
   },
   "cell_type": "markdown",
   "id": "2423577b",
   "metadata": {},
   "source": [
    "![0C6C808B-AAD6-4FA7-8998-13B7B33A22CF_4_5005_c.jpeg](attachment:0C6C808B-AAD6-4FA7-8998-13B7B33A22CF_4_5005_c.jpeg)"
   ]
  },
  {
   "cell_type": "code",
   "execution_count": null,
   "id": "83f2e965",
   "metadata": {},
   "outputs": [],
   "source": [
    "S = \"ABCDEFGHI\""
   ]
  },
  {
   "cell_type": "markdown",
   "id": "18d2679c",
   "metadata": {},
   "source": [
    "To access the first character of the string, use the following code."
   ]
  },
  {
   "cell_type": "code",
   "execution_count": null,
   "id": "7c08410c",
   "metadata": {},
   "outputs": [],
   "source": [
    "print(S[0])"
   ]
  },
  {
   "cell_type": "markdown",
   "id": "31be39c4",
   "metadata": {},
   "source": [
    "**Note**: In Python, the first index in a string is going to be 0, not 1."
   ]
  },
  {
   "cell_type": "markdown",
   "id": "96d88dea",
   "metadata": {},
   "source": [
    "The next letter will have the index of 1."
   ]
  },
  {
   "cell_type": "code",
   "execution_count": null,
   "id": "06b6336a",
   "metadata": {},
   "outputs": [],
   "source": [
    "print(S[1])"
   ]
  },
  {
   "cell_type": "markdown",
   "id": "6d707ab4",
   "metadata": {},
   "source": [
    "The following script will have an output of the 7th character."
   ]
  },
  {
   "cell_type": "code",
   "execution_count": null,
   "id": "7a31ead7",
   "metadata": {},
   "outputs": [],
   "source": [
    "print(S[6])"
   ]
  },
  {
   "cell_type": "markdown",
   "id": "c23b26c6",
   "metadata": {},
   "source": [
    "If we try to access an index that is bigger than the length of the string, we receive an error.\n",
    "\n",
    "What do you think the result of this line of code will be?"
   ]
  },
  {
   "cell_type": "code",
   "execution_count": null,
   "id": "16a0c948",
   "metadata": {},
   "outputs": [],
   "source": [
    "print(S[12])"
   ]
  },
  {
   "cell_type": "markdown",
   "id": "6361f2d1",
   "metadata": {},
   "source": [
    "We can also use negative indexing.\n",
    "\n",
    "To get the last character, use the index of -1. To get the second to last character, use use the index of -2, and so on. "
   ]
  },
  {
   "cell_type": "code",
   "execution_count": null,
   "id": "fdc73bae",
   "metadata": {},
   "outputs": [],
   "source": [
    "print(S[-1])"
   ]
  },
  {
   "cell_type": "code",
   "execution_count": null,
   "id": "812a6657",
   "metadata": {},
   "outputs": [],
   "source": [
    "print(S[-4])"
   ]
  },
  {
   "cell_type": "code",
   "execution_count": null,
   "id": "67186ea7",
   "metadata": {},
   "outputs": [],
   "source": [
    "print(S[-7])"
   ]
  },
  {
   "cell_type": "code",
   "execution_count": null,
   "id": "d6ac3bb8",
   "metadata": {},
   "outputs": [],
   "source": [
    "print(S[-12])"
   ]
  },
  {
   "cell_type": "markdown",
   "id": "33b103fe",
   "metadata": {},
   "source": [
    "If you want to find the index of a specific character, use the `index()` method. Inside the parantheses, put the character you are looking for."
   ]
  },
  {
   "cell_type": "markdown",
   "id": "75e33397",
   "metadata": {},
   "source": [
    "## Instructor Demo"
   ]
  },
  {
   "cell_type": "code",
   "execution_count": null,
   "id": "b9c86376",
   "metadata": {},
   "outputs": [],
   "source": [
    "line = \"12345678\""
   ]
  },
  {
   "cell_type": "markdown",
   "id": "d83f1ec9",
   "metadata": {},
   "source": [
    "What are the printed numbers going to be for the following lines of code? Take a guess before running the following lines."
   ]
  },
  {
   "cell_type": "code",
   "execution_count": null,
   "id": "dbf792ff",
   "metadata": {},
   "outputs": [],
   "source": [
    "print(line[1])"
   ]
  },
  {
   "cell_type": "code",
   "execution_count": null,
   "id": "caa3ab62",
   "metadata": {},
   "outputs": [],
   "source": [
    "print(line[3])"
   ]
  },
  {
   "cell_type": "code",
   "execution_count": null,
   "id": "e6ed58a0",
   "metadata": {},
   "outputs": [],
   "source": [
    "print(line[-1])"
   ]
  },
  {
   "cell_type": "code",
   "execution_count": null,
   "id": "83a18cb9",
   "metadata": {},
   "outputs": [],
   "source": [
    "print(line[-7])"
   ]
  },
  {
   "cell_type": "markdown",
   "id": "0c7d726d",
   "metadata": {},
   "source": [
    "## Student Exercise"
   ]
  },
  {
   "cell_type": "markdown",
   "id": "aa234e4f",
   "metadata": {},
   "source": [
    "### Problem 1\n",
    "\n",
    "* Create 2 variables: `f_name` and `l_name`. Assign them values. \n",
    "* Find the first letters of these variables. \n",
    "* Print these 2 letters concatenated."
   ]
  },
  {
   "cell_type": "code",
   "execution_count": null,
   "id": "6e4f1ff9",
   "metadata": {},
   "outputs": [],
   "source": []
  },
  {
   "cell_type": "markdown",
   "id": "5b5a766f",
   "metadata": {},
   "source": [
    "### Problem 2 \n",
    "`txt = \"It's always darkest before dawn.\"`\n",
    "\n",
    "Create a new string composed of the first and last letters of this string."
   ]
  },
  {
   "cell_type": "code",
   "execution_count": null,
   "id": "c30f83b0",
   "metadata": {},
   "outputs": [],
   "source": []
  },
  {
   "cell_type": "markdown",
   "id": "62caec31",
   "metadata": {},
   "source": [
    "### Problem 3 \n",
    "`txt = \"Intrusion Detection System\"`\n",
    "\n",
    "Create a new string composed of the first letters of each of the words in this line.\n",
    "**Hint:** Use the `split()` method "
   ]
  },
  {
   "cell_type": "code",
   "execution_count": null,
   "id": "f8d9a34b",
   "metadata": {},
   "outputs": [],
   "source": []
  },
  {
   "cell_type": "markdown",
   "id": "7bf5c098",
   "metadata": {},
   "source": [
    "# Activity 2E: Strings Slicing \n",
    "## Introduction\n",
    "\n",
    "As you can  see, you can  access individual characters in a string using indexing. Now we can expand that syntax to extract substrings. This technique is known as string slicing.\n",
    "\n",
    "For every string variable, you can reference the first and last index you want to show as part of that string. The first number in the brackets is inclusive and the last is exclusive. \n",
    "\n",
    "Here is an example of string slicing:"
   ]
  },
  {
   "attachments": {
    "590872CF-AF76-4D71-9176-A682B74DE049_4_5005_c.jpeg": {
     "image/jpeg": "[encoded data removed]"
    }
   },
   "cell_type": "markdown",
   "id": "01446246",
   "metadata": {},
   "source": [
    "![590872CF-AF76-4D71-9176-A682B74DE049_4_5005_c.jpeg](attachment:590872CF-AF76-4D71-9176-A682B74DE049_4_5005_c.jpeg)"
   ]
  },
  {
   "cell_type": "code",
   "execution_count": null,
   "id": "80172224",
   "metadata": {},
   "outputs": [],
   "source": [
    "S = 'ABCDEFGHI'"
   ]
  },
  {
   "cell_type": "markdown",
   "id": "306bdc7d",
   "metadata": {},
   "source": [
    "If you want to print the first and second character, it should be [0:1]. Since the first number in the brackets is inclusive and the second number is exclusive, it doesn't print that number.\n",
    "\n",
    "**Note:** Spaces and other characters also count!"
   ]
  },
  {
   "cell_type": "code",
   "execution_count": null,
   "id": "a18ee164",
   "metadata": {},
   "outputs": [],
   "source": [
    "print(S[0:2])"
   ]
  },
  {
   "cell_type": "markdown",
   "id": "9e984b2f",
   "metadata": {},
   "source": [
    "Run the following code to print all of the characters from the third character on."
   ]
  },
  {
   "cell_type": "code",
   "execution_count": null,
   "id": "75d38977",
   "metadata": {},
   "outputs": [],
   "source": [
    "print(S[2:])"
   ]
  },
  {
   "cell_type": "markdown",
   "id": "f268164b",
   "metadata": {},
   "source": [
    "Run the following code to print the 2nd to 3rd character (not included)."
   ]
  },
  {
   "cell_type": "code",
   "execution_count": null,
   "id": "8b3ba04e",
   "metadata": {},
   "outputs": [],
   "source": [
    "print(S[1:3])"
   ]
  },
  {
   "cell_type": "markdown",
   "id": "0a209e58",
   "metadata": {},
   "source": [
    "Run the following code to print all of the characters until the 6th character (not included)."
   ]
  },
  {
   "cell_type": "code",
   "execution_count": null,
   "id": "491cb4da",
   "metadata": {},
   "outputs": [],
   "source": [
    "print(S[:6])"
   ]
  },
  {
   "cell_type": "markdown",
   "id": "5be4947c",
   "metadata": {},
   "source": [
    "You can also use negative indexing to slice. Run the following code to print the 3rd character until the 5th from the end of the string."
   ]
  },
  {
   "cell_type": "code",
   "execution_count": null,
   "id": "1178f3c4",
   "metadata": {},
   "outputs": [],
   "source": [
    "print(S[2:-5])"
   ]
  },
  {
   "cell_type": "markdown",
   "id": "163f5f24",
   "metadata": {},
   "source": [
    "You can include a third number in the brackets, which is called the \"step\"."
   ]
  },
  {
   "cell_type": "code",
   "execution_count": null,
   "id": "2924afa7",
   "metadata": {},
   "outputs": [],
   "source": [
    "print(S[0:5:2])"
   ]
  },
  {
   "cell_type": "markdown",
   "id": "477b21e6",
   "metadata": {},
   "source": [
    "You can even put a step as negative, which means it will start at the end and go backwards. Using a negative number as the step helps you reverse the entire string."
   ]
  },
  {
   "cell_type": "code",
   "execution_count": null,
   "id": "7bf95896",
   "metadata": {},
   "outputs": [],
   "source": [
    "print(S[::-1])  "
   ]
  },
  {
   "cell_type": "markdown",
   "id": "a504e62e",
   "metadata": {},
   "source": [
    "## Instructor Demo\n",
    "What do you think the results of the next lines will be? Take a guess before running each line."
   ]
  },
  {
   "cell_type": "code",
   "execution_count": null,
   "id": "5c294ef7",
   "metadata": {},
   "outputs": [],
   "source": [
    "string = \"12345678\""
   ]
  },
  {
   "cell_type": "code",
   "execution_count": null,
   "id": "7c92c31f",
   "metadata": {},
   "outputs": [],
   "source": [
    "print(string[0:2])"
   ]
  },
  {
   "cell_type": "code",
   "execution_count": null,
   "id": "bf4d79ab",
   "metadata": {},
   "outputs": [],
   "source": [
    "print(string[2:4])"
   ]
  },
  {
   "cell_type": "code",
   "execution_count": null,
   "id": "4015ac82",
   "metadata": {},
   "outputs": [],
   "source": [
    "print(string[3:-1])\n"
   ]
  },
  {
   "cell_type": "code",
   "execution_count": null,
   "id": "91e70989",
   "metadata": {},
   "outputs": [],
   "source": [
    "print(string[:2])"
   ]
  },
  {
   "cell_type": "code",
   "execution_count": null,
   "id": "c1d15a20",
   "metadata": {},
   "outputs": [],
   "source": [
    "print(string[3:])\n"
   ]
  },
  {
   "cell_type": "code",
   "execution_count": null,
   "id": "44fb7468",
   "metadata": {},
   "outputs": [],
   "source": [
    "print(string[::-1])"
   ]
  },
  {
   "cell_type": "markdown",
   "id": "9267d9e6",
   "metadata": {},
   "source": [
    "## Student Exercise"
   ]
  },
  {
   "cell_type": "markdown",
   "id": "826a9c4b",
   "metadata": {},
   "source": [
    "### Problem 1 \n",
    "`txt = \"this is a string\"`\n",
    "\n",
    "Print every second character in this string."
   ]
  },
  {
   "cell_type": "code",
   "execution_count": null,
   "id": "7b834da4",
   "metadata": {},
   "outputs": [],
   "source": []
  },
  {
   "cell_type": "markdown",
   "id": "72a61042",
   "metadata": {},
   "source": [
    "### Problem 2\n",
    "`txt = \"this is a string\"`\n",
    "\n",
    "Print the first 3 characters of this string."
   ]
  },
  {
   "cell_type": "code",
   "execution_count": null,
   "id": "138a3300",
   "metadata": {},
   "outputs": [],
   "source": []
  },
  {
   "cell_type": "markdown",
   "id": "55e3c1a1",
   "metadata": {},
   "source": [
    "### Problem 3\n",
    "`txt = \"this is a string\"`\n",
    "\n",
    "Print the last word in this string."
   ]
  },
  {
   "cell_type": "code",
   "execution_count": null,
   "id": "fd00b176",
   "metadata": {},
   "outputs": [],
   "source": []
  },
  {
   "cell_type": "markdown",
   "id": "ee9b290a",
   "metadata": {},
   "source": [
    "### Problem 4\n",
    "`txt = \"this a string\"`\n",
    "\n",
    "Print the 4th character until the end of this string."
   ]
  },
  {
   "cell_type": "code",
   "execution_count": null,
   "id": "d8f94aec",
   "metadata": {},
   "outputs": [],
   "source": []
  },
  {
   "cell_type": "markdown",
   "id": "66734d14",
   "metadata": {},
   "source": [
    "### Problem 5\n",
    "`website = \"https://www.fullstackacademy.com\"`\n",
    "\n",
    "You have been provided with a variable called `website` that contains the url of a website. Use slicing to remove the `https://` portion of this string."
   ]
  },
  {
   "cell_type": "code",
   "execution_count": null,
   "id": "e99f5040",
   "metadata": {},
   "outputs": [],
   "source": []
  },
  {
   "cell_type": "markdown",
   "id": "f9325efb",
   "metadata": {},
   "source": [
    "# Activity 2F: Putting It All Together\n",
    "## Student Exercise"
   ]
  },
  {
   "cell_type": "markdown",
   "id": "a88bc5f6",
   "metadata": {},
   "source": [
    "### Problem 1\n",
    "* Create a new string (your choice).\n",
    "* Print the first and last characters in this string."
   ]
  },
  {
   "cell_type": "code",
   "execution_count": null,
   "id": "1cbc9ba3",
   "metadata": {},
   "outputs": [],
   "source": []
  },
  {
   "cell_type": "markdown",
   "id": "d8a8adb1",
   "metadata": {},
   "source": [
    "### Problem 2\n",
    "You are provided with the following variable: `txt = \"10.0.2.7:44445\"`\n",
    "\n",
    "* Create 2 variables called `ip` and `port` \n",
    "* Find the index of the colon in `txt` \n",
    "* Assign the value of IP to the `ip` variable and the port number to the `port` variable\n",
    "* Print the IP and port; i.e. your statement should read, \"The IP is [ip] and the port is [port]\""
   ]
  },
  {
   "cell_type": "code",
   "execution_count": null,
   "id": "4550dd17",
   "metadata": {},
   "outputs": [],
   "source": []
  }
 ],
 "metadata": {
  "kernelspec": {
   "display_name": "Python 3 (ipykernel)",
   "language": "python",
   "name": "python3"
  },
  "language_info": {
   "codemirror_mode": {
    "name": "ipython",
    "version": 3
   },
   "file_extension": ".py",
   "mimetype": "text/x-python",
   "name": "python",
   "nbconvert_exporter": "python",
   "pygments_lexer": "ipython3",
   "version": "3.10.5"
  }
 },
 "nbformat": 4,
 "nbformat_minor": 5
}
