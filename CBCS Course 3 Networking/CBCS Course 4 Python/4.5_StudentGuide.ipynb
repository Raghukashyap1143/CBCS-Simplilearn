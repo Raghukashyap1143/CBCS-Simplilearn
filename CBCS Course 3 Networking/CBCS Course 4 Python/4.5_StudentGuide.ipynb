{
 "cells": [
  {
   "cell_type": "markdown",
   "id": "4ef61ab1",
   "metadata": {},
   "source": [
    "# Lesson 4.5: Functions\n",
    "\n",
    "\n",
    "# Activity 5A: Syntax\n",
    "## Introduction\n",
    "\n",
    "Thus far, you have already seen and used a number of functions. Python comes pre-packaged with several. An example is the `print()` function which outputs data. What are a few other functions you've already used? \n",
    "\n",
    "While built-in functions are useful, programmers create specific functions for various use cases. These are commonly referred to as user-defined functions. \n",
    "\n",
    "Refer to the following program to define the terms used in functions.\n",
    "\n",
    "```\n",
    "def function_name(parameters):\n",
    "    Piece of code \n",
    "    return(optional)\n",
    "```    \n",
    "    \n",
    "* Keyword, `def`, marks the start of the function header.\n",
    "\n",
    "* A function name, `function_name` in this case, uniquely identifies the function.\n",
    "\n",
    "* Parameters (arguments) through which we pass values to a function. They are optional.\n",
    "\n",
    "* A colon, `:`,  to mark the end of the function header.\n",
    "\n",
    "* One or more valid Python statements that make up the function body. Statements must have the same indentation level.\n",
    "\n",
    "* An optional `return` statement to return a value from the function.\n",
    "\n",
    "Let’s look at an example of a simple function that does not contain a parameter. \n",
    "A function can be written without having  an input nor an output (with a `return` statement). It only prints the specific strings indicated in the function body. "
   ]
  },
  {
   "cell_type": "code",
   "execution_count": null,
   "id": "c19df530",
   "metadata": {},
   "outputs": [],
   "source": [
    "def greet():\n",
    "    print(\"Good morning!\")"
   ]
  },
  {
   "cell_type": "markdown",
   "id": "2811469a",
   "metadata": {},
   "source": [
    "## Calling a Function\n",
    "Once you have defined a function, you can call it using the function name. If you don't call the function, it is not executed."
   ]
  },
  {
   "cell_type": "code",
   "execution_count": null,
   "id": "558ac7eb",
   "metadata": {},
   "outputs": [],
   "source": [
    "greet()"
   ]
  },
  {
   "cell_type": "markdown",
   "id": "2b6f7bcf",
   "metadata": {},
   "source": [
    "**Note**: Once you write the definition of a function, you can call it as many times as you want.\n",
    "Next, lets add an argument to our function. "
   ]
  },
  {
   "cell_type": "code",
   "execution_count": null,
   "id": "cc17f34a",
   "metadata": {},
   "outputs": [],
   "source": [
    "def greet(name):\n",
    "    print(\"Hello, \" + name + \". Good morning!\")"
   ]
  },
  {
   "cell_type": "markdown",
   "id": "f7a9d215",
   "metadata": {},
   "source": [
    "Now when you call the function, you need to supply the argument for the function. Otherwise, the function will not execute."
   ]
  },
  {
   "cell_type": "code",
   "execution_count": null,
   "id": "f8df1a35",
   "metadata": {},
   "outputs": [],
   "source": [
    "greet('Paul')"
   ]
  },
  {
   "cell_type": "markdown",
   "id": "855818ee",
   "metadata": {},
   "source": [
    "If you use a different name each time, you call the function."
   ]
  },
  {
   "cell_type": "code",
   "execution_count": null,
   "id": "4b29996a",
   "metadata": {},
   "outputs": [],
   "source": [
    "greet(\"Sarah\")\n",
    "greet(\"Sam\")"
   ]
  },
  {
   "cell_type": "markdown",
   "id": "ee4a2247",
   "metadata": {},
   "source": [
    "**Note:** An argument is simply the variable. In the above case, “name” is the parameter. The argument is the specific value that you will pass when calling the function. \n",
    "\n",
    "Functions can contain multiple parameters that, in turn, accept multiple parameters. For example, the following `greet` function has two parameters. You will call this with two arguments. When you define a function you also define how many arguments that function takes.\n",
    "In this example you have two arguments; the name and the message you want to display."
   ]
  },
  {
   "cell_type": "code",
   "execution_count": null,
   "id": "e610e2cd",
   "metadata": {},
   "outputs": [],
   "source": [
    "def greet(name, msg):\n",
    "    #This function greets to the person with the provided message\n",
    "    print(\"Hello\", name + ', ' + msg)"
   ]
  },
  {
   "cell_type": "markdown",
   "id": "45fccf94",
   "metadata": {},
   "source": [
    "Now when you call the function you need to supply the two arguments."
   ]
  },
  {
   "cell_type": "code",
   "execution_count": null,
   "id": "6ead16db",
   "metadata": {},
   "outputs": [],
   "source": [
    "greet(\"Monica\", \"Good morning!\")"
   ]
  },
  {
   "cell_type": "markdown",
   "id": "93588e56",
   "metadata": {},
   "source": [
    "Since you have called this function with two arguments, it runs smoothly and you do not get any error.\n",
    "If you call it with a different number of arguments, you will get an error message. "
   ]
  },
  {
   "cell_type": "code",
   "execution_count": null,
   "id": "f37b1c22",
   "metadata": {},
   "outputs": [],
   "source": [
    "greet(\"Monica\")"
   ]
  },
  {
   "cell_type": "markdown",
   "id": "812c23b1",
   "metadata": {},
   "source": [
    "## Instructor Demo \n",
    "Write a function that:\n",
    "* Receives two numbers as input\n",
    "* Prints the sum of the two numbers\n",
    "* Calls the function"
   ]
  },
  {
   "cell_type": "code",
   "execution_count": null,
   "id": "e37044dd",
   "metadata": {},
   "outputs": [],
   "source": [
    "def sum(num_1, num_2):\n",
    "    print(num_1 + num_2)\n",
    "sum(1, 7)"
   ]
  },
  {
   "cell_type": "markdown",
   "id": "bd95100f",
   "metadata": {},
   "source": [
    "Write a function that:\n",
    "* Receives two numbers as input\n",
    "* Prints the multiplication of the two numbers\n",
    "* Calls the function"
   ]
  },
  {
   "cell_type": "code",
   "execution_count": null,
   "id": "864e0958",
   "metadata": {},
   "outputs": [],
   "source": [
    "def mul(mul_1, mul_2):\n",
    "    print(mul_1 * mul_2)\n",
    "mul(2, 8)"
   ]
  },
  {
   "cell_type": "markdown",
   "id": "fd830779",
   "metadata": {},
   "source": [
    "Write a function that:\n",
    "* Receives two numbers as input\n",
    "* Prints all of the numbers between those two numbers\n",
    "* Calls the function"
   ]
  },
  {
   "cell_type": "code",
   "execution_count": null,
   "id": "fbfcf6b8",
   "metadata": {},
   "outputs": [],
   "source": [
    "def show(start, stop):\n",
    "    for i in range(start, stop):\n",
    "        print(i)\n",
    "show(1, 20)"
   ]
  },
  {
   "cell_type": "markdown",
   "id": "b2225ab6",
   "metadata": {},
   "source": [
    "Write a function that:\n",
    "* Receives a word as as input\n",
    "* Prints the length of the word \n",
    "* Calls the function"
   ]
  },
  {
   "cell_type": "code",
   "execution_count": null,
   "id": "1c54ff36",
   "metadata": {},
   "outputs": [],
   "source": [
    "def length(word):\n",
    "    print(len(word))\n",
    "length(\"life\")"
   ]
  },
  {
   "cell_type": "markdown",
   "id": "0253b43e",
   "metadata": {},
   "source": [
    "## Student Exercise\n",
    " \n",
    "### Problem 1\n",
    "\n",
    "Write a function called `reminder` that:\n",
    "* Accepts two numbers as input from a user (`num_1`, `num_2`)\n",
    "* Prints the modulus of `num_1` by `num_2` \n",
    "* Calls the function"
   ]
  },
  {
   "cell_type": "code",
   "execution_count": null,
   "id": "9fec3ed3",
   "metadata": {},
   "outputs": [],
   "source": []
  },
  {
   "cell_type": "markdown",
   "id": "a33913c1",
   "metadata": {},
   "source": [
    "### Problem 2 \n",
    "`mylist = [\"a\", 1, 2, 3, 4, 5, 6]`\n",
    "\n",
    "Write a function called `print_list` that:\n",
    "* Takes the list (`mylist`) as input\n",
    "* Prints all of the elements in the list\n",
    "* Calls the function"
   ]
  },
  {
   "cell_type": "code",
   "execution_count": null,
   "id": "5567a85e",
   "metadata": {},
   "outputs": [],
   "source": []
  },
  {
   "cell_type": "markdown",
   "id": "3f640403",
   "metadata": {},
   "source": [
    "### Problem 3 \n",
    "\n",
    "Write a function called `even_numbers` that:\n",
    "* Receives two numbers as input (`num_1`, `num_2`)\n",
    "* Iterates on all the numbers between `num_1` and `num_2`\n",
    "* Prints all of the even numbers in this range\n",
    "* Calls the function using any two numbers"
   ]
  },
  {
   "cell_type": "code",
   "execution_count": null,
   "id": "18bb1c61",
   "metadata": {},
   "outputs": [],
   "source": []
  },
  {
   "cell_type": "markdown",
   "id": "a51199a1",
   "metadata": {},
   "source": [
    "# Activity 5B: Return Statements\n",
    "## Introduction\n",
    "\n",
    "In the same way that you can pass values into functions as arguments, you can also retrieve values from functions via the `return` keyword. Instead of printing the result to the screen, you can return it into the program.\n",
    "\n",
    "First, let’s look at an example without a return keyword or statement. If there is no expression in the statement or the return statement itself is not present inside a function, then the function will return the `None` object.\n",
    "\n",
    "```\n",
    "def greet(name):\n",
    "    print(\"Hello, \" + name + \". Good morning!\")\n",
    "\n",
    "greet(\"May\"))\n",
    "```\n",
    "\n",
    "Here, `None` is the returned value since `greet()` directly prints the name and no return statement is used.\n",
    "\n",
    "Lets take another example that we've seen before."
   ]
  },
  {
   "cell_type": "code",
   "execution_count": null,
   "id": "76e02c38",
   "metadata": {},
   "outputs": [],
   "source": [
    "def sum(x, y):\n",
    "    return x + y"
   ]
  },
  {
   "cell_type": "markdown",
   "id": "5ec21188",
   "metadata": {},
   "source": [
    "In this case, instead of printing the result to the screen, you are returning to the main program. Once you've returned it you can use it anywhere in the program. You can print it or use it as an input for something else.\n",
    "\n",
    "## Instructor Demo\n",
    "Write a function called `sum` that:\n",
    "* Receives two numbers as input (x, y)\n",
    "* Returns the sum of these numbers\n",
    "* Calls the function and stores the result in a variable called `result`\n",
    "* Prints the result"
   ]
  },
  {
   "cell_type": "code",
   "execution_count": null,
   "id": "a7f986a4",
   "metadata": {},
   "outputs": [],
   "source": [
    "def sum(x, y):\n",
    "    return x + y\n",
    "result=sum(3, 4)\n",
    "print(result)\n"
   ]
  },
  {
   "cell_type": "markdown",
   "id": "6b68e7ae",
   "metadata": {},
   "source": [
    "Write a function called `power` that:\n",
    "* Receives one number as input (x)\n",
    "* Returns the power of 2 of that number\n",
    "* Calls the function and stores the result in a variable called `result`\n",
    "* Prints the result"
   ]
  },
  {
   "cell_type": "code",
   "execution_count": null,
   "id": "b5115bf5",
   "metadata": {},
   "outputs": [],
   "source": [
    "def power(x):\n",
    "    return x * x \n",
    "\n",
    "result = (power(2))\n",
    "print(result)"
   ]
  },
  {
   "cell_type": "markdown",
   "id": "6ebdbfd9",
   "metadata": {},
   "source": [
    "Write a function called `mul` that:\n",
    "* Receives two numbers as input (x, y)\n",
    "* Returns the product of these numbers \n",
    "* Calls the function and stores the result in a variable called `result`\n",
    "* Prints the result"
   ]
  },
  {
   "cell_type": "code",
   "execution_count": null,
   "id": "9b3027f0",
   "metadata": {},
   "outputs": [],
   "source": [
    "def mul (x, y):\n",
    "    result = x * y\n",
    "    return result\n",
    "\n",
    "result = mul(2,3)\n",
    "print(result)"
   ]
  },
  {
   "cell_type": "markdown",
   "id": "69b4af31",
   "metadata": {},
   "source": [
    "***Notes:*** \n",
    "\n",
    "* The `return` statement is used to conclude and exit a function and go back to the place from where it was called. \n",
    "\n",
    "* You can only have one return statement in a function. \n",
    "\n",
    "* Whichever value gets returned will be passed back into the main script. \n",
    "\n",
    "* It’s common to store the result of a `return` statement within a variable so that it can be easily referred to and reused in later parts of the program."
   ]
  },
  {
   "cell_type": "markdown",
   "id": "3620357f",
   "metadata": {},
   "source": [
    "Write a function called `absolute_value` that:\n",
    "* Receives a number as input (num)\n",
    "* Checks if the number is positive \n",
    "* Returns the absolute value of that number\n",
    "* Calls the function with the `num` as input and stored in a variable called `result`\n",
    "* Prints the result"
   ]
  },
  {
   "cell_type": "code",
   "execution_count": null,
   "id": "714423e0",
   "metadata": {
    "scrolled": true
   },
   "outputs": [],
   "source": [
    "def absolute_value(num):\n",
    "    if num >= 0:\n",
    "        return num\n",
    "    else:\n",
    "        return -num\n",
    "\n",
    "\n",
    "result = absolute_value(-10)\n",
    "print(result)"
   ]
  },
  {
   "cell_type": "markdown",
   "id": "d4120655",
   "metadata": {},
   "source": [
    "Write a function called `len_string` that:\n",
    "* Receives a string as input (str_1)\n",
    "* Returns the length of that string\n",
    "* Calls the function\n",
    "* Prints the return result in one line"
   ]
  },
  {
   "cell_type": "code",
   "execution_count": null,
   "id": "548d5de6",
   "metadata": {},
   "outputs": [],
   "source": [
    "def len_string(str_1):\n",
    "    return len(str_1)\n",
    "\n",
    "print(len_string(\"This is a string\"))"
   ]
  },
  {
   "cell_type": "markdown",
   "id": "7b9b1fc4",
   "metadata": {},
   "source": [
    "Write a function called `num_items` that:\n",
    "* Receives a list of your choice\n",
    "* Returns the length of the list\n",
    "* Calls the function and prints the result in one line"
   ]
  },
  {
   "cell_type": "code",
   "execution_count": null,
   "id": "5ce84ede",
   "metadata": {},
   "outputs": [],
   "source": [
    "def num_items(list_1):\n",
    "    return len(list_1)\n",
    "\n",
    "list_1 = [1, 2, 4, 5, 6]\n",
    "print(num_items(list_1))"
   ]
  },
  {
   "cell_type": "markdown",
   "id": "bf4a9e01",
   "metadata": {},
   "source": [
    "Write a function called `largest_num` that:\n",
    "* Receives a list of your choice as input (list_1)\n",
    "* Iterates over the list \n",
    "* Returns the largest number in the list (without using the `max()` method)\n",
    "* Calls the function\n",
    "* Prints the result in one line"
   ]
  },
  {
   "cell_type": "code",
   "execution_count": null,
   "id": "d434b5d3",
   "metadata": {},
   "outputs": [],
   "source": [
    "def largest_num(list_1):\n",
    "    max = 0\n",
    "    for num in list_1:\n",
    "        if num > max:\n",
    "            max = num\n",
    "    return max\n",
    "print(largest_num([1, 4, 8, 2, 5]))"
   ]
  },
  {
   "cell_type": "markdown",
   "id": "ccc93e27",
   "metadata": {},
   "source": [
    "## Student Exercise\n",
    "\n",
    "### Problem 1\n",
    " \n",
    "Write a function called `find_str` that:\n",
    "* Takes a string and a list as input\n",
    "* Checks if the string is in the list\n",
    "* Returns \"the string is in the list\" if the string is in the list\n",
    "* Returns \"the string is not in the list\" if the string is not in the list\n",
    "* Calls the function\n",
    "* Prints the result in one line"
   ]
  },
  {
   "cell_type": "code",
   "execution_count": null,
   "id": "6da2363e",
   "metadata": {},
   "outputs": [],
   "source": []
  },
  {
   "cell_type": "markdown",
   "id": "f63cca56",
   "metadata": {},
   "source": [
    "### Problem 2 \n",
    "Write a function called `under_5` that:\n",
    "* Receives a list of numbers as input (list_1)\n",
    "* Iterates over the list \n",
    "* Checks for numbers under 5 and puts them in another list (list_2)\n",
    "* Returns list_2\n",
    "* Calls the function\n",
    "* Prints the result in one line"
   ]
  },
  {
   "cell_type": "code",
   "execution_count": null,
   "id": "f87130d4",
   "metadata": {},
   "outputs": [],
   "source": []
  },
  {
   "cell_type": "markdown",
   "id": "c3617142",
   "metadata": {},
   "source": [
    "### Problem 3 \n",
    "Write a function called `min_num` that:\n",
    "* Receives a list of positive numbers as input\n",
    "* Iterates over the list \n",
    "* Returns the smallest number \n",
    "* Calls the function\n",
    "* Prints the result in one line"
   ]
  },
  {
   "cell_type": "code",
   "execution_count": null,
   "id": "be9a6f3c",
   "metadata": {},
   "outputs": [],
   "source": []
  },
  {
   "cell_type": "markdown",
   "id": "537b4b90",
   "metadata": {},
   "source": [
    "### Problem 4\n",
    "\n",
    "Write a function called `even_or_odd` that:\n",
    "* Receives a number as input\n",
    "* Checks if the number is even or odd\n",
    "* Returns either \"the number is even\" or \"the number is odd\"\n",
    "* Calls the function\n",
    "* Prints the result in one line"
   ]
  },
  {
   "cell_type": "code",
   "execution_count": null,
   "id": "3da859c8",
   "metadata": {},
   "outputs": [],
   "source": []
  },
  {
   "cell_type": "markdown",
   "id": "c280cf78",
   "metadata": {},
   "source": [
    "### Problem 5\n",
    "Write a function called `capital` that:\n",
    "* Receives a string as input (word)\n",
    "* Changes the word to capital letters\n",
    "* Returns the result\n",
    "* Calls the function \n",
    "* Prints the result in one line"
   ]
  },
  {
   "cell_type": "code",
   "execution_count": null,
   "id": "39460934",
   "metadata": {},
   "outputs": [],
   "source": []
  },
  {
   "cell_type": "markdown",
   "id": "599c1acc",
   "metadata": {},
   "source": [
    "### Problem 6\n",
    "Write a function called `palindrome_check` that:\n",
    "* Takes a string as input\n",
    "* Checks if the string is a palindrome (reads the same forward and backward)\n",
    "* Returns \"this is a palindrome\" or \"this is not a plaindrome\"\n",
    "* Calls the function\n",
    "* Prints the result in one line"
   ]
  },
  {
   "cell_type": "code",
   "execution_count": null,
   "id": "0f57ca92",
   "metadata": {},
   "outputs": [],
   "source": []
  },
  {
   "cell_type": "markdown",
   "id": "f88a6b7a",
   "metadata": {},
   "source": [
    "# Activity 5C: Modules \n",
    "\n",
    "A module in Python is a file that contains a set of pre-defined code for related functions and variables. One advantage of using modules is that instead of having to write custom, complicated code ourselves, modules save us time by providing pre-created methods and functions.\n",
    "\n",
    "Python has many built-in modules, a few of which we’ll explore in this lesson. \n",
    "## Introduction\n",
    "If you want to get a list of all of the built-in modules, use the `help(\"modules\")` command.\n",
    "\n",
    "**Note:** This command will only function as intended locally on your device."
   ]
  },
  {
   "cell_type": "markdown",
   "id": "c8c31817",
   "metadata": {},
   "source": [
    "There are two ways you can import a module into your program. \n",
    "\n",
    "#### Using the `import` Statement \n",
    "The first way to import a module is by using the `import` statement followed by the name of the module. Usually you would do this at the top of your script. Once you do that, then you can call whichever functions exists within that module.\n",
    "\n",
    "`import <module_name>`\n",
    "\n",
    "After you import this module you can access this method and the other methods in the module that are available to you.\n",
    "For example, you can import the `os` module using the following line at the top of your script. OS is a built-in module used to access Bash commands in Linux or Cmd commands in Windows, depending on the operating system you are running the script on."
   ]
  },
  {
   "cell_type": "code",
   "execution_count": null,
   "id": "42761f46",
   "metadata": {},
   "outputs": [],
   "source": [
    "import os "
   ]
  },
  {
   "cell_type": "markdown",
   "id": "0734d2bf",
   "metadata": {},
   "source": [
    "Within the OS module, the `getcwd()` method tells you the directory you're currently in. It's similar to the `ls` command in Linux. \n",
    "\n",
    "You would call the function using the following syntax. Note that you need to have `os.` appended right before the function name."
   ]
  },
  {
   "cell_type": "code",
   "execution_count": null,
   "id": "74c9a9ee",
   "metadata": {},
   "outputs": [],
   "source": [
    "print(os.getcwd())"
   ]
  },
  {
   "cell_type": "markdown",
   "id": "bdef664e",
   "metadata": {},
   "source": [
    "#### Using the `from < > import < >` Statement\n",
    "\n",
    "Another way to import is using `from <module_name> import <function_name>`."
   ]
  },
  {
   "cell_type": "code",
   "execution_count": null,
   "id": "bc3bf2e6",
   "metadata": {},
   "outputs": [],
   "source": [
    "from os import * "
   ]
  },
  {
   "cell_type": "markdown",
   "id": "94156f42",
   "metadata": {},
   "source": [
    "Now you can call the function directly, without having to use `os.` appended right before the function name. "
   ]
  },
  {
   "cell_type": "code",
   "execution_count": null,
   "id": "959e145e",
   "metadata": {},
   "outputs": [],
   "source": [
    "print(getcwd())"
   ]
  },
  {
   "cell_type": "markdown",
   "id": "41c68540",
   "metadata": {},
   "source": [
    "Now let's use this module to create a script that would print the current system we are on and the current time on the machine.  "
   ]
  },
  {
   "cell_type": "code",
   "execution_count": null,
   "id": "b565aaec",
   "metadata": {},
   "outputs": [],
   "source": [
    "from os import * "
   ]
  },
  {
   "cell_type": "code",
   "execution_count": null,
   "id": "f9b4f72c",
   "metadata": {},
   "outputs": [],
   "source": [
    "print(\"the system is: \",uname())\n",
    "print(\"the current directory is \",getcwd())"
   ]
  },
  {
   "cell_type": "markdown",
   "id": "eadfb3df",
   "metadata": {},
   "source": [
    "As you can see, there was no need to write the full name of the method.\n",
    "\n",
    "## Instructor Demo\n",
    "Write a function called `make_dir` that:\n",
    "* Receives a name of a directory as input: `(dir_1)`\n",
    "* Checks if the directory exists in the `/voc/public` directory: `(os.listdir())`\n",
    "* If it doesn't, creates the following directory: `(os.mkdir())`\n",
    "* Returns \"directory successfully created\" or \"directory already exists\"\n",
    "* Calls the function\n",
    "* Prints the result in one line\n",
    "\n",
    "**Note: Throughout these lessons, you may need to modify the file path depending where the logs are saved on your device or in Vocareum. Check where they are saved and adjust throughout the scripts accordingly.**"
   ]
  },
  {
   "cell_type": "code",
   "execution_count": null,
   "id": "c8730e3f",
   "metadata": {},
   "outputs": [],
   "source": [
    "import os \n",
    "def make_dir(dir_1):\n",
    "    p = os.listdir(\"/voc/public/\")\n",
    "    if dir_1 in p:\n",
    "        return \"directory  already exists\"\n",
    "    else:\n",
    "        os.mkdir(\"/voc/public/\" + dir_1)\n",
    "        return \"directory successfully created\"\n",
    "        \n",
    "dir_1 = input(\"please enter a directory you would like to create in /voc/public folder \")\n",
    "print(make_dir(dir_1))"
   ]
  },
  {
   "cell_type": "markdown",
   "id": "d4c86d9d",
   "metadata": {},
   "source": [
    "Write a function called `check_file` that:\n",
    "* Receives a file name as input: `(file_name)`\n",
    "* Checks if the file exists: `(os.path.exists())`\n",
    "* If it does, returns the size of the file \n",
    "* If it doesn't, returns \"no such file\""
   ]
  },
  {
   "cell_type": "code",
   "execution_count": null,
   "id": "7a003d80",
   "metadata": {},
   "outputs": [],
   "source": [
    "import os \n",
    "def check_file(file_name,path):\n",
    "    os.chdir(path)\n",
    "    if os.path.exists(file_name):\n",
    "        return os.path.getsize(file_name)\n",
    "    else:\n",
    "        return \"no such file\"\n",
    "\n",
    "print(check_file(\"2.txt\", \"/voc/public\"))"
   ]
  },
  {
   "cell_type": "markdown",
   "id": "e5bcc080",
   "metadata": {},
   "source": [
    "Write a function  called `del_file` that:\n",
    "* Receives a file name as input: `(file_name)`\n",
    "* If the file exists, delete it and return \"The file was deleted\"\n",
    "* If the file doesn't exist, return \"The file wasn't found\"\n",
    "* Calls the function \n",
    "* Prints the result in one line.\n",
    "\n",
    "\n",
    "**Note:** Try this with the file called `log1.txt`. "
   ]
  },
  {
   "cell_type": "code",
   "execution_count": null,
   "id": "4f9b88b5",
   "metadata": {},
   "outputs": [],
   "source": [
    "import os \n",
    "def del_file(file_name):\n",
    "    if os.path.exists(file_name):\n",
    "        os.remove(file_name)\n",
    "        return \"The file was deleted\"\n",
    "    else:\n",
    "        return \"The file wasn't found\"\n",
    "print(del_file(\"/voc/public/log1.txt\"))"
   ]
  },
  {
   "cell_type": "markdown",
   "id": "e421d3ae",
   "metadata": {},
   "source": [
    "## Student Exercise\n",
    "### Problem 1 \n",
    "Write a function called `check_file` that:\n",
    "* Receives a file name and a directory (`file_name`, `dir_name`)\n",
    "* Checks if that file exists in that path\n",
    "* Returns \"this file exists\" if the file exists\n",
    "* Returns \"this file doesn't exist\" if it does not exist\n",
    "* Calls the function\n",
    "* Prints the result in one line\n",
    "\n",
    "**Hint** `:os.path.exists`"
   ]
  },
  {
   "cell_type": "code",
   "execution_count": null,
   "id": "7ad3f020",
   "metadata": {},
   "outputs": [],
   "source": []
  },
  {
   "cell_type": "markdown",
   "id": "7b8f0eef",
   "metadata": {},
   "source": [
    "### Problem 2 \n",
    "Write a function called `list_file` that:\n",
    "* Receives a directory name as input\n",
    "* Lists all the files and directories in the directory and puts it in a list: `(list)`\n",
    "* Calls the function \n",
    "* Prints the list in one line"
   ]
  },
  {
   "cell_type": "code",
   "execution_count": null,
   "id": "b1ff0c50",
   "metadata": {},
   "outputs": [],
   "source": []
  },
  {
   "cell_type": "markdown",
   "id": "b4e12c41",
   "metadata": {},
   "source": [
    "### Problem 3 \n",
    "Write a function called `check_dir` that:\n",
    "* Receives a directory as input\n",
    "* Checks if that directory exists\n",
    "* If it exists, returns \"The directory exists\"\n",
    "* If it doesn't, returns \"The directory doesn't exist\"\n",
    "* Calls the function \n",
    "* Prints the result in one line"
   ]
  },
  {
   "cell_type": "code",
   "execution_count": null,
   "id": "7e0939f5",
   "metadata": {},
   "outputs": [],
   "source": []
  },
  {
   "cell_type": "markdown",
   "id": "9bb0219a",
   "metadata": {},
   "source": [
    "### Installing Custom Modules \n",
    "\n",
    "In some cases, modules will not be pre-built on your systems.\n",
    "\n",
    "In those situations you can research and find a custom module that is necessary for your script. There are thousands of modules available on the Internet. Once you find the name of the module you are interested in you can install it via the Linux command line. \n",
    "\n",
    "Below is the command format that you would use. \n",
    "\n",
    "\n",
    "````\n",
    "$python3 -m pip install <Module_Name>\n",
    "````"
   ]
  },
  {
   "cell_type": "markdown",
   "id": "43c5363e",
   "metadata": {},
   "source": [
    "# Activity 5D: The Main Function\n",
    "\n",
    "At this point, you can import Python modules and write Python functions into a script file that you can execute from the command line. Now let's look at how to write your code more cleanly so that it's easier for other Python programmers to understand what your code is doing. \n",
    "\n",
    "One way we do that is with the main function, which is like the entry point of a program. However, the Python program runs the code right from the first line. \n",
    "\n",
    "The best practice is to \n",
    "1. Write the import statement first\n",
    "2. Then write all other functions (except the main function). These are called auxiliary functions.\n",
    "3. Lastly, write the main function.\n",
    "\n",
    "In the main function you will call the auxiliary functions that you declared before. The main function is also where you usually put any print statement as well as any interactions with the user. After you've written your script, you will then call the `main()` function like any other function.\n",
    "\n",
    "Let's move on to a demo to see this in action. "
   ]
  },
  {
   "cell_type": "markdown",
   "id": "8695e401",
   "metadata": {},
   "source": [
    "## Instructor Demo"
   ]
  },
  {
   "cell_type": "code",
   "execution_count": null,
   "id": "3419e0cd",
   "metadata": {},
   "outputs": [],
   "source": [
    "import os \n",
    "def make_dir(dir_1):\n",
    "    p = os.listdir(\"/voc/public/\")\n",
    "    if dir_1 in p:\n",
    "        return \"directory  already exists\"\n",
    "    else:\n",
    "        os.mkdir(\"/voc/public/\" + dir_1)\n",
    "        return \"directory successfully created\"\n",
    "def main():\n",
    "        \n",
    "    dir_1 = input(\"please enter a directory you would like to create in /voc/public folder \")\n",
    "    print(make_dir(dir_1))\n",
    "main()"
   ]
  },
  {
   "cell_type": "markdown",
   "id": "10c6fac4",
   "metadata": {},
   "source": [
    "As you can see, the only addition to the code is adding a `main()` function and then calling it. It is not necessary to do so but it is considered a better way to write code. Additionally, when you read other programs created by others, this is the best practice they would use."
   ]
  },
  {
   "cell_type": "code",
   "execution_count": null,
   "id": "9b033bb3",
   "metadata": {},
   "outputs": [],
   "source": [
    "import os \n",
    "def check_file(file_name,path):\n",
    "    os.chdir(path)\n",
    "    if os.path.exists(file_name):\n",
    "        return os.path.getsize(file_name)\n",
    "    else:\n",
    "        return \"no such file\"\n",
    "def main():\n",
    "    print(check_file(\"2.txt\",\"/voc/public\"))\n",
    "main()"
   ]
  },
  {
   "cell_type": "code",
   "execution_count": null,
   "id": "f19ee341",
   "metadata": {},
   "outputs": [],
   "source": [
    "import os \n",
    "def path_check(path):\n",
    "    if os.path.exists(path):\n",
    "        return \"The directory exists\"\n",
    "    else:\n",
    "        return \"The directory doesn't exist\"\n",
    "def main():\n",
    "\n",
    "    print(path_check(\"/voc/public\"))\n",
    "main()"
   ]
  },
  {
   "cell_type": "markdown",
   "id": "fcaee6f3",
   "metadata": {},
   "source": [
    "## Student Exercise\n",
    "Rewrite the programs from Problems 1-3 in Activity 5C using the `main()` format.\n",
    "### Problem 1"
   ]
  },
  {
   "cell_type": "code",
   "execution_count": null,
   "id": "edd6f223",
   "metadata": {},
   "outputs": [],
   "source": []
  },
  {
   "cell_type": "markdown",
   "id": "2ffc4169",
   "metadata": {},
   "source": [
    "### Problem 2"
   ]
  },
  {
   "cell_type": "code",
   "execution_count": null,
   "id": "f6521b6c",
   "metadata": {},
   "outputs": [],
   "source": []
  },
  {
   "cell_type": "markdown",
   "id": "c64150a8",
   "metadata": {},
   "source": [
    "### Problem 3"
   ]
  },
  {
   "cell_type": "code",
   "execution_count": null,
   "id": "6758d33c",
   "metadata": {},
   "outputs": [],
   "source": []
  }
 ],
 "metadata": {
  "kernelspec": {
   "display_name": "Python 3 (ipykernel)",
   "language": "python",
   "name": "python3"
  },
  "language_info": {
   "codemirror_mode": {
    "name": "ipython",
    "version": 3
   },
   "file_extension": ".py",
   "mimetype": "text/x-python",
   "name": "python",
   "nbconvert_exporter": "python",
   "pygments_lexer": "ipython3",
   "version": "3.10.5"
  }
 },
 "nbformat": 4,
 "nbformat_minor": 5
}
