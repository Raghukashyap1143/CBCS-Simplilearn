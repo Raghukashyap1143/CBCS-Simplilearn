{
 "cells": [
  {
   "cell_type": "markdown",
   "id": "0c59ac8d",
   "metadata": {},
   "source": [
    "# Lesson 4.4: Conditionals and For Loops\n",
    "\n",
    "# Activity 4A: Warm-up\n",
    "## Student Exercise\n",
    "\n",
    "Create a program that:\n",
    "\n",
    "* Asks a user to enter five names.\n",
    "* Prints the first name; i.e. \"The first user is [firstuser]\"\n",
    "* Prints the last user; i.e. \"The last user is [lastuser]\" \n",
    "* Prints the last three users; i.e. \"The last three users are [lasthreeusers]\"\n",
    "* Sorts the list alphabetically and prints it; i.e. \"The sorted list is [listsorted]\" \n",
    "* Reverses the list and prints it; i.e. \"The reverse list is [reversedlist]\""
   ]
  },
  {
   "cell_type": "code",
   "execution_count": null,
   "id": "e80c811c",
   "metadata": {},
   "outputs": [],
   "source": []
  },
  {
   "cell_type": "markdown",
   "id": "24f7f058",
   "metadata": {},
   "source": [
    "# Activity 4B: Conditionals\n",
    "## Introduction\n",
    "\n",
    "In the real world, we evaluate information around us and  choose one course of action or another based on what we observe. This is where a conditional statement comes in. The conditional statement checks if a condition meets a criteria and if it does, it will execute some code. If another criteria is met, then another piece of code is executed instead, and so on.\n",
    "\n",
    "The most basic structure of an If statement is\n",
    "```\n",
    "if (condition):\n",
    "    Piece of code to execute\n",
    "Else:\n",
    "    Another piece of code to execute\n",
    "    \n",
    "```\n",
    "\n",
    "The statement after the `if` is called the condition. \n",
    "* If it is true, then the code block below it will execute. \n",
    "* If it is not true, then the code block after `else` will execute \n",
    "\n",
    "Python supports some usual logical conditions:\n",
    "* Equals: a == b\n",
    "* Not Equals: a != b\n",
    "* Less than: a < b\n",
    "* Less than or equal to: a <= b\n",
    "* Greater than: a > b\n",
    "* Greater than or equal to: a >= b\n",
    "\n",
    "In Python, the syntax will look something like the following."
   ]
  },
  {
   "cell_type": "code",
   "execution_count": null,
   "id": "df48c163",
   "metadata": {},
   "outputs": [],
   "source": [
    "num_1 = 2\n",
    "if num_1 > 0:\n",
    "    print(\"number is positive\")\n",
    "else:\n",
    "    print(\"number is not positive\") \n"
   ]
  },
  {
   "cell_type": "markdown",
   "id": "6f5c7a63",
   "metadata": {},
   "source": [
    "Note that:\n",
    "* At the end of the conditional statement there will always be a colon.\n",
    "* The indent is part of the code; every time there is a colon there will be an indent in the line following the colon. \n",
    "* The code that is to be executed will always be indented."
   ]
  },
  {
   "cell_type": "code",
   "execution_count": null,
   "id": "bce504c5",
   "metadata": {},
   "outputs": [],
   "source": [
    "a = 33\n",
    "b = 200\n",
    "if b <= a:\n",
    "  print(\"b is greater than or equal to a\")\n",
    "else:\n",
    "  print(\"a is smaller than b\")"
   ]
  },
  {
   "cell_type": "code",
   "execution_count": null,
   "id": "43afcdbd",
   "metadata": {},
   "outputs": [],
   "source": [
    "num = 3\n",
    "\n",
    "# Try these two variations as well. \n",
    "# num = -5\n",
    "# num = 0\n",
    "\n",
    "if num >= 0:\n",
    "    print(\"Positive or Zero\")\n",
    "else:\n",
    "    print(\"Negative number\")"
   ]
  },
  {
   "cell_type": "markdown",
   "id": "9523df17",
   "metadata": {},
   "source": [
    "Use `elif` if you have multiple options."
   ]
  },
  {
   "cell_type": "code",
   "execution_count": null,
   "id": "76cedac4",
   "metadata": {},
   "outputs": [],
   "source": [
    "a = 200\n",
    "b = 33\n",
    "if b > a:\n",
    "  print(\"b is greater than a\")\n",
    "elif a == b:\n",
    "  print(\"a and b are equal\")\n",
    "else:\n",
    "  print(\"a is greater than b\")"
   ]
  },
  {
   "cell_type": "markdown",
   "id": "206ec6de",
   "metadata": {},
   "source": [
    "Use the `and` statement to check two or more conditions. For this statement to be true, both conditions have to be met."
   ]
  },
  {
   "cell_type": "code",
   "execution_count": null,
   "id": "4387d5b0",
   "metadata": {},
   "outputs": [],
   "source": [
    "a = 200\n",
    "b = 33\n",
    "c = 500\n",
    "if a > b and c > a:\n",
    "  print(\"Both conditions are True\")"
   ]
  },
  {
   "cell_type": "markdown",
   "id": "7a15b8c0",
   "metadata": {},
   "source": [
    "Use `or` if you only need one condition to be met."
   ]
  },
  {
   "cell_type": "code",
   "execution_count": null,
   "id": "c1106bab",
   "metadata": {},
   "outputs": [],
   "source": [
    "a = 200\n",
    "b = 33\n",
    "c = 500\n",
    "if a > b or a > c:\n",
    "  print(\"At least one of the conditions is True\")"
   ]
  },
  {
   "cell_type": "markdown",
   "id": "bb762c79",
   "metadata": {},
   "source": [
    "You can also check if something is in a string."
   ]
  },
  {
   "cell_type": "code",
   "execution_count": null,
   "id": "a2e2a5d6",
   "metadata": {},
   "outputs": [],
   "source": [
    "list_names = [\"dave\",\"smith\",\"paul\"]\n",
    "if \"paul\" in list_names:\n",
    "    print(\"Paul is on the list\")\n",
    "else:\n",
    "    print(\"Paul is not on the list\")"
   ]
  },
  {
   "cell_type": "markdown",
   "id": "3f6470ee",
   "metadata": {},
   "source": [
    "## Instructor Demo\n",
    "Write a script that:\n",
    "* Receives a string from user input\n",
    "* If the first letter is S, replaces the letter with A"
   ]
  },
  {
   "cell_type": "code",
   "execution_count": null,
   "id": "9fbccdf1",
   "metadata": {},
   "outputs": [],
   "source": [
    "str1 = input(\"enter a string: \")\n",
    "if str1[0] == \"S\":\n",
    "    str1 = str1.replace(\"S\",\"A\")\n",
    "    print(str1)\n",
    "else:\n",
    "    pass"
   ]
  },
  {
   "cell_type": "markdown",
   "id": "8cf272ee",
   "metadata": {},
   "source": [
    "Write a script that:\n",
    "* Receives a string from user input\n",
    "* If the length of a string is greater than 8 characters, prints \"This is a long string\"\n",
    "* if the length is equal to 8 characters, prints \"This is a moderate string\" \n",
    "* If the length is less than 8 characters, prints \"This is a short string\""
   ]
  },
  {
   "cell_type": "code",
   "execution_count": null,
   "id": "59d5ab8f",
   "metadata": {},
   "outputs": [],
   "source": [
    "str1 = input(\"enter a string:\")\n",
    "if len(str1) > 8:\n",
    "    print(\"This is a long string\")\n",
    "elif len(str1) == 8:\n",
    "    print(\"This is a moderate string\")\n",
    "else:\n",
    "    print(\"This is a short string \")"
   ]
  },
  {
   "cell_type": "markdown",
   "id": "383f695d",
   "metadata": {},
   "source": [
    "Write a script that:\n",
    "* Receives a number from user input \n",
    "* If the number is even, prints \"This is an even number\"\n",
    "* If the number is odd, prints \"This is an odd number\""
   ]
  },
  {
   "cell_type": "code",
   "execution_count": null,
   "id": "2cc3e41e",
   "metadata": {},
   "outputs": [],
   "source": [
    "num = input(\"please enter a number \")\n",
    "num = int(num)\n",
    "if num % 2 == 0:\n",
    "    print(\"This is an even number\")\n",
    "else:\n",
    "    print(\"This is an odd number\")\n"
   ]
  },
  {
   "cell_type": "markdown",
   "id": "e6fba9ba",
   "metadata": {},
   "source": [
    "Write a script that:\n",
    "* Receives an ipv4 from a user \n",
    "* If the IP ends in 1, prints \"This is the host's IP\"\n",
    "* If the IP ends in 255, prints \"This is the broadcast IP\"\n",
    "* If the IP ends in 254, prints \"This is the router's IP\""
   ]
  },
  {
   "cell_type": "code",
   "execution_count": null,
   "id": "377a076d",
   "metadata": {},
   "outputs": [],
   "source": [
    "IP = input(\"Enter an IP address: \")\n",
    "list = IP.split(\".\")\n",
    "\n",
    "if list[-1] == \".0\":\n",
    "    print(\"this is the host's IP\")\n",
    "elif list[-1] == \"255\":\n",
    "    print(\"this is the broadcast's IP\")\n",
    "elif list[-1] == \"254\":\n",
    "    print(\"this is the router's IP\")"
   ]
  },
  {
   "cell_type": "markdown",
   "id": "e8a45978",
   "metadata": {},
   "source": [
    "Write a script that:\n",
    "* Receives a port number from user input\n",
    "* If the port number is 80, prints \"This is an HTTP port\"\n",
    "* If the port number is 443, prints \"This is an HTTPS port\"\n",
    "* If the port number is 25, prints \"This is an SMTP port\"\n",
    "* If the port number is not any one of these ports, prints \"This is not a valid port\""
   ]
  },
  {
   "cell_type": "code",
   "execution_count": null,
   "id": "3d003a93",
   "metadata": {},
   "outputs": [],
   "source": [
    "port = input(\"please enter a port number: \")\n",
    "\n",
    "if port == \"25\":\n",
    "   print(\"The service name is SMTP\")\n",
    "elif port == \"80\":\n",
    "   print(\"The service name is HTTP\")\n",
    "elif port == \"443\":   \n",
    "   print(\"The service name is HTTPS\") \n",
    "else:\n",
    "   print(\"This is not a valid port\")"
   ]
  },
  {
   "cell_type": "markdown",
   "id": "3575914b",
   "metadata": {},
   "source": [
    "Write a script that:\n",
    "* Receives a string from user input\n",
    "* If the first letter is a vowel, prints \"The first letter is a vowel\"\n",
    "* If the first letter is not a vowel, prints \"The first letter is not a vowel\""
   ]
  },
  {
   "cell_type": "code",
   "execution_count": null,
   "id": "a7a10c0d",
   "metadata": {},
   "outputs": [],
   "source": [
    "str1 = input(\"please enter a name: \").split()\n",
    "first_letter = str1[0]"
   ]
  },
  {
   "cell_type": "code",
   "execution_count": null,
   "id": "1c943f80",
   "metadata": {},
   "outputs": [],
   "source": [
    "str1 = input(\"Enter a name: \")\n",
    "str1 = str1.lower()\n",
    "first_letter = str1[0]\n",
    "if first_letter in \"aeiou\":\n",
    "    print(\"The first letter is a vowel\")\n",
    "else:\n",
    "    print(\"The first letter is not a vowel\")"
   ]
  },
  {
   "cell_type": "markdown",
   "id": "90d8247b",
   "metadata": {},
   "source": [
    "## Student Exercise\n",
    "\n",
    "\n",
    "### Problem 1 \n",
    "Write a script that: \n",
    "* Receives a password from user input \n",
    "* If the password is `CSI123`, prints \"Correct password\"\n",
    "* If the password is not `CSI123`,  prints \"Incorrect password\" "
   ]
  },
  {
   "cell_type": "code",
   "execution_count": null,
   "id": "00e5a634",
   "metadata": {},
   "outputs": [],
   "source": []
  },
  {
   "cell_type": "markdown",
   "id": "c8b6a862",
   "metadata": {},
   "source": [
    "### Problem 2 \n",
    "Write a script that:\n",
    "* Receives a number between 1 and 4 from user input\n",
    "* Based on the number that has been given, prints \"You have chosen 1\", \"You have chosen 2\", \"You have chosen 3\", or \"You have chosen 4\""
   ]
  },
  {
   "cell_type": "code",
   "execution_count": null,
   "id": "43a8f8a5",
   "metadata": {},
   "outputs": [],
   "source": []
  },
  {
   "cell_type": "markdown",
   "id": "6e2d07dd",
   "metadata": {},
   "source": [
    "### Problem 3\n",
    "Write a script that:\n",
    "* Receives a password from user input\n",
    "* If the password is greater than or equal to 8 characters, prints \"The password is secure\"\n",
    "* If the password is less than 8 characters, prints \"The password is not secure\""
   ]
  },
  {
   "cell_type": "code",
   "execution_count": null,
   "id": "da4110f9",
   "metadata": {},
   "outputs": [],
   "source": []
  },
  {
   "cell_type": "markdown",
   "id": "93e31b46",
   "metadata": {},
   "source": [
    "### Problem 4\n",
    "Write a script that:\n",
    "* Receives a username and password from user input\n",
    "* If the username and password are both \"admin\", prints \"That is the correct username and password\"\n",
    "* If the username and/or password are not \"admin\", prints \"That is the incorrect username and/or password\""
   ]
  },
  {
   "cell_type": "code",
   "execution_count": null,
   "id": "1272deff",
   "metadata": {},
   "outputs": [],
   "source": []
  },
  {
   "cell_type": "markdown",
   "id": "3f195ffe",
   "metadata": {},
   "source": [
    "### Problem 5 \n",
    "Write a script that:\n",
    "* Receives four names from user input \n",
    "* Puts the names into a list\n",
    "* If the name \"sam\" appears in the list, prints \"Sam is here\"\n",
    "* If the name \"sam\" does not appear in the list, prints \"Sam is gone\""
   ]
  },
  {
   "cell_type": "code",
   "execution_count": null,
   "id": "22717df0",
   "metadata": {},
   "outputs": [],
   "source": []
  },
  {
   "cell_type": "markdown",
   "id": "d4df3363",
   "metadata": {},
   "source": [
    "# Activity 4C: For Loops \n",
    "## Introduction\n",
    "\n",
    "Conditional statements execute code based on specific conditions. What do you do if you have a block of code that you wanted to repeat a fixed number of times? This is where for loops come in. \n",
    "\n",
    "If you want to print several IP addresses, for example, you can do it one by one. That would be time consuming and inefficient! Instead, you can put the IP addresses into a list, then loop, or iterate, through each element in the list and execute the same piece of code for each of them.\n",
    "\n",
    "For loops are always used in combination with an iterable object, like a list or a range. The Python `for` statement iterates over the members of a sequence in order, executing the block each time.\n",
    "\n",
    "In the following for loop, let's print all of the elements in the string called `str_1`."
   ]
  },
  {
   "cell_type": "code",
   "execution_count": null,
   "id": "4801935a",
   "metadata": {},
   "outputs": [],
   "source": [
    "str_1 = \"popcorn\"\n",
    "for letter in str_1:\n",
    "    print(letter)"
   ]
  },
  {
   "cell_type": "markdown",
   "id": "222594f0",
   "metadata": {},
   "source": [
    "You can also iterate over lists."
   ]
  },
  {
   "cell_type": "code",
   "execution_count": null,
   "id": "89a34519",
   "metadata": {},
   "outputs": [],
   "source": [
    "List_1 = [\"a\", 1, \"b\", \"2\"]\n",
    "for item in List_1:\n",
    "   print(item)"
   ]
  },
  {
   "cell_type": "markdown",
   "id": "a3763a25",
   "metadata": {},
   "source": [
    "In the previous example, you have declared a list, `List_1`. \n",
    "\n",
    "Then we have a `for` statement which ends with a colon. The line after that is always indented.\n",
    "\n",
    "Within the `for` statement you have assigned a variable, `item`, which is a placeholder for every item in our iterable object. In this case `item` represents the elements in that list. Note that instead of `item` you can use any other placeholder. For example, the `for` statement could be `for element in List_1:` \n",
    "\n",
    "The indented line contains the action(s) we want done to each item in our list. This example prints each item in our list. \n",
    "\n",
    "This process continues until all items are printed."
   ]
  },
  {
   "cell_type": "code",
   "execution_count": null,
   "id": "df56331b",
   "metadata": {},
   "outputs": [],
   "source": [
    "fruits = [\"Banana\", \"Apple\", \"Mango\"]\n",
    "for item in fruits:\n",
    "    print(item)"
   ]
  },
  {
   "cell_type": "markdown",
   "id": "13bac384",
   "metadata": {},
   "source": [
    "We can also iterate over list of integers.\n"
   ]
  },
  {
   "cell_type": "code",
   "execution_count": null,
   "id": "8e645bf8",
   "metadata": {},
   "outputs": [],
   "source": [
    "num_list=[1, 26, 8, 9, 2, 53, 242]\n",
    "for num in num_list:\n",
    "    print(num)"
   ]
  },
  {
   "cell_type": "markdown",
   "id": "b41cd16a",
   "metadata": {},
   "source": [
    "Using what you learned before, you can use `for` and conditionals together to check each item in a list."
   ]
  },
  {
   "cell_type": "markdown",
   "id": "39b64eb6",
   "metadata": {},
   "source": [
    "## Instructor Demo\n",
    "`fruits = [\"apple\", \"banana\", \"cherry\"]`\n",
    "\n",
    "Write a script that:\n",
    "* Iterates over this list \n",
    "* If \"banana\" is in the list, prints \"we have bananas\""
   ]
  },
  {
   "cell_type": "code",
   "execution_count": null,
   "id": "af6a2ec3",
   "metadata": {},
   "outputs": [],
   "source": [
    "fruits = [\"apple\", \"banana\", \"cherry\"]\n",
    "for fruit in fruits:\n",
    "  if fruit == \"banana\":\n",
    "      print(\"we have bananas\")"
   ]
  },
  {
   "cell_type": "markdown",
   "id": "5f9ad319",
   "metadata": {},
   "source": [
    "`fruits = [\"apple\", \"banana\", \"cherry\"]`\n",
    "\n",
    "Write a script that:\n",
    "* Iterates over this list \n",
    "* Prints every item that begins with the letter \"a\""
   ]
  },
  {
   "cell_type": "code",
   "execution_count": null,
   "id": "21cce233",
   "metadata": {},
   "outputs": [],
   "source": [
    "fruits = [\"apple\", \"banana\",\"cherry\"]\n",
    "for fruit in fruits:\n",
    "    if fruit[0]==\"a\":\n",
    "        print(fruit)\n",
    "    else:\n",
    "        pass"
   ]
  },
  {
   "cell_type": "markdown",
   "id": "c6ba7bc6",
   "metadata": {},
   "source": [
    "`fruits = [\"apple\", \"banana\", \"cherry\"]`\n",
    "\n",
    "Write a script that:\n",
    "\n",
    "* Iterates over this list \n",
    "* If \"banana\" is in the list, it removes it "
   ]
  },
  {
   "cell_type": "code",
   "execution_count": null,
   "id": "198ade80",
   "metadata": {},
   "outputs": [],
   "source": [
    "fruits=[\"apple\",\"banana\",\"cherry\"]\n",
    "for fruit in fruits:\n",
    "    if fruit==\"banana\":\n",
    "       fruits.remove(fruit)\n",
    "print(fruits)"
   ]
  },
  {
   "cell_type": "markdown",
   "id": "a5bdb491",
   "metadata": {},
   "source": [
    "`lst1 = [111, 32, -9, -45, -17, 9, 85, -10]`\n",
    "\n",
    "Write a script that:\n",
    "* Iterates over this list \n",
    "* Checks if an item is positive. If it is, apend to another list called `lst2`\n",
    "* Prints the list "
   ]
  },
  {
   "cell_type": "code",
   "execution_count": null,
   "id": "5453b32f",
   "metadata": {},
   "outputs": [],
   "source": [
    "lst1 = [111, 32, -9, -45, -17, 9, 85, -10]\n",
    "lst2 = []\n",
    "for i in lst1:\n",
    "    if i > 0:\n",
    "        lst2.append(i)\n",
    "print(lst2)"
   ]
  },
  {
   "cell_type": "markdown",
   "id": "9af6423d",
   "metadata": {},
   "source": [
    "In the next demo, we're going to use a for loop to find the sum of all numbers in a list. \n",
    "\n",
    "To do this you need to create a `sum` variable that is initially set to `0`. Each time it goes through the loop, we're going to add each element of the list to the `sum` variable. "
   ]
  },
  {
   "cell_type": "markdown",
   "id": "37f00dc5",
   "metadata": {},
   "source": [
    "`numbers = [6, 5, 3, 8, 4, 2, 5, 4, 11]`\n",
    "\n",
    "Write a script that:\n",
    "* Iterates over this list\n",
    "* Sums up each of the elements on the list "
   ]
  },
  {
   "cell_type": "code",
   "execution_count": null,
   "id": "515937df",
   "metadata": {},
   "outputs": [],
   "source": [
    "# Program to find the sum of all numbers stored in a list\n",
    "\n",
    "numbers = [6, 5, 3, 8, 4, 2, 5, 4, 11]\n",
    "\n",
    "# variable to store the sum\n",
    "sum = 0\n",
    "\n",
    "# iterate over the list\n",
    "for val in numbers:\n",
    "    sum = sum + val\n",
    "print(\"The sum is\", sum)"
   ]
  },
  {
   "cell_type": "markdown",
   "id": "bed3a325",
   "metadata": {},
   "source": [
    "Write a script that:\n",
    "* Iterates over a list of numbers\n",
    "* Prints all even numbers in the list"
   ]
  },
  {
   "cell_type": "code",
   "execution_count": null,
   "id": "98324e2b",
   "metadata": {},
   "outputs": [],
   "source": [
    "list1 = [2,3,4,5,6,7,10]\n",
    "for num in list1:\n",
    "    if num % 2 == 0:\n",
    "        print(num)"
   ]
  },
  {
   "cell_type": "markdown",
   "id": "8ec36db4",
   "metadata": {},
   "source": [
    "## Student Exercise\n",
    "### Problem 1 \n",
    "`List_1 = [\"koala\", \"cat\", \"fox\", \"panda\", \"chipmunk\", \"lion\", \"penguin\", \"dolphin\"]`\n",
    "\n",
    "Write a script that:\n",
    "* Iterates over the list \n",
    "* Prints every item in the list"
   ]
  },
  {
   "cell_type": "code",
   "execution_count": null,
   "id": "54d25ff6",
   "metadata": {},
   "outputs": [],
   "source": []
  },
  {
   "cell_type": "markdown",
   "id": "1d54786d",
   "metadata": {},
   "source": [
    "### Problem 2\n",
    "\n",
    "Write a script that:\n",
    "* Accepts three numbers from user input\n",
    "* Multiplies the numbers together and prints the result\n",
    "* Hint: You will want to first use `split()` to create a list of numerical elements from the user input "
   ]
  },
  {
   "cell_type": "code",
   "execution_count": null,
   "id": "44840ab9",
   "metadata": {},
   "outputs": [],
   "source": []
  },
  {
   "cell_type": "markdown",
   "id": "a2b5147e",
   "metadata": {},
   "source": [
    "### Problem 3\n",
    "`List_1 = [\"Sam\", \"Lisa\", \"Micha\", \"Dave\", \"Wyatt\", \"Emma\", \"Sage\"]`\n",
    "\n",
    "Write a script that:\n",
    "* Iterates over the list\n",
    "* For each name, print \"Hello,\" before printing each name in the list. i.e.: \"Hello, Sam\""
   ]
  },
  {
   "cell_type": "code",
   "execution_count": null,
   "id": "41ab6bca",
   "metadata": {},
   "outputs": [],
   "source": []
  },
  {
   "cell_type": "markdown",
   "id": "9b13bf3b",
   "metadata": {},
   "source": [
    "### Problem 4\n",
    "Write a script that:\n",
    "* Accepts a full name from a user (can be multiple names, such as the first, middle, and last name)\n",
    "* Prints the initials of all the names"
   ]
  },
  {
   "cell_type": "code",
   "execution_count": null,
   "id": "1f1906a6",
   "metadata": {},
   "outputs": [],
   "source": []
  },
  {
   "cell_type": "markdown",
   "id": "a0d7a83b",
   "metadata": {},
   "source": [
    "### Problem 5\n",
    "`List = [\"Sam\", \"Lisa\", \"Micha\", \"Dave\", \"Wyatt\", \"Emma\", \"Sage\"]`\n",
    "\n",
    "Write a script that:\n",
    "* Iterates over the list\n",
    "* Prints the length of each element, i.e: \"The name 'Sam' has a length of 3\""
   ]
  },
  {
   "cell_type": "code",
   "execution_count": null,
   "id": "a8544677",
   "metadata": {},
   "outputs": [],
   "source": []
  },
  {
   "cell_type": "markdown",
   "id": "000ed76e",
   "metadata": {},
   "source": [
    "# Activity 4D: The `range()` Function and Counters\n",
    "## Introduction\n",
    "\n",
    "`range()` allows users to generate a series of numbers within a start and end point. Depending on how many arguments the user is passing to the function, they can decide where that series of numbers will begin, end, and how big the difference will be between one number and the next.\n",
    "\n",
    "```\n",
    "range(start, stop)\n",
    "```\n",
    "\n",
    "The `start` argument is the first value in the range. The `stop` argument is the upper bound of the range. The upper value is **not** included in the range. In other words, the `stop` argument number will NEVER be reached. The final number reached using the `range()` function is the number just before the `stop` argument. \n",
    "\n",
    "If `range()` is called with only one argument, then Python assumes `start = 0`.\n",
    "\n",
    "```range(stop)```\n",
    "\n",
    "\n",
    "Lastly, we may see a range function that has three arguments.\n",
    "\n",
    "```range(start, stop, skip)```\n",
    "\n",
    "The `skip` argument, which is optional, will tell our program how many values to skip in that range. The idea behind the range function is to create a list of numbers in for loops to count or complete actions a fixed number of times."
   ]
  },
  {
   "cell_type": "code",
   "execution_count": null,
   "id": "9c493e18",
   "metadata": {},
   "outputs": [],
   "source": [
    "for num in range(5):\n",
    "    print(num)"
   ]
  },
  {
   "cell_type": "markdown",
   "id": "4dffc4ef",
   "metadata": {},
   "source": [
    "One way to use this is when you want an action to happen a certain amount of times."
   ]
  },
  {
   "cell_type": "code",
   "execution_count": null,
   "id": "81298d3e",
   "metadata": {},
   "outputs": [],
   "source": [
    "for i in range(5):\n",
    "    print(\"hey\")"
   ]
  },
  {
   "cell_type": "markdown",
   "id": "808a3deb",
   "metadata": {},
   "source": [
    "In the next example, we set `start = 2` and again include integers less than 5. \n"
   ]
  },
  {
   "cell_type": "code",
   "execution_count": null,
   "id": "66ca7005",
   "metadata": {},
   "outputs": [],
   "source": [
    "for i in range(2, 5):\n",
    "    print(i) "
   ]
  },
  {
   "cell_type": "markdown",
   "id": "5f5cbea0",
   "metadata": {},
   "source": [
    "If you want to print every third number in the range 1 to 20, then run the following."
   ]
  },
  {
   "cell_type": "code",
   "execution_count": null,
   "id": "12f8ea1b",
   "metadata": {},
   "outputs": [],
   "source": [
    "for i in range(1, 20, 3):\n",
    "    print(i)"
   ]
  },
  {
   "cell_type": "markdown",
   "id": "c990962f",
   "metadata": {},
   "source": [
    "You can also print numbers in reverse using the `skip` argument to print all the numbers in a decreasing order."
   ]
  },
  {
   "cell_type": "code",
   "execution_count": null,
   "id": "bac8f6b2",
   "metadata": {},
   "outputs": [],
   "source": [
    "for i in range(20, 1, -1):\n",
    "    print(i)"
   ]
  },
  {
   "cell_type": "markdown",
   "id": "d97475bd",
   "metadata": {},
   "source": [
    "## Instructor Demo"
   ]
  },
  {
   "cell_type": "markdown",
   "id": "c609cbfd",
   "metadata": {},
   "source": [
    "Write a script that prints every number from 1 to 30."
   ]
  },
  {
   "cell_type": "code",
   "execution_count": null,
   "id": "cd80acfc",
   "metadata": {},
   "outputs": [],
   "source": [
    "for num in range(1, 30):\n",
    "    print(num)"
   ]
  },
  {
   "cell_type": "markdown",
   "id": "9b86c6c0",
   "metadata": {},
   "source": [
    "Write a script that prints every number between 100 and 80 in decending order."
   ]
  },
  {
   "cell_type": "code",
   "execution_count": null,
   "id": "fce41cbf",
   "metadata": {},
   "outputs": [],
   "source": [
    "for num in range(100, 80, -1):\n",
    "    print(num)"
   ]
  },
  {
   "cell_type": "markdown",
   "id": "a4c84255",
   "metadata": {},
   "source": [
    "Write a script that prints even numbers between 0 and 10."
   ]
  },
  {
   "cell_type": "code",
   "execution_count": null,
   "id": "43ddb27e",
   "metadata": {},
   "outputs": [],
   "source": [
    "for num in range(0, 10 + 1):\n",
    "        if num % 2 == 0:\n",
    "            print(num)"
   ]
  },
  {
   "cell_type": "markdown",
   "id": "9ca61795",
   "metadata": {},
   "source": [
    "Write a script that prints \"this is a sentence\" 10 times."
   ]
  },
  {
   "cell_type": "code",
   "execution_count": null,
   "id": "68926582",
   "metadata": {},
   "outputs": [],
   "source": [
    "for i in range(10):\n",
    "    print(\"this is a sentence\")"
   ]
  },
  {
   "cell_type": "markdown",
   "id": "99f46db4",
   "metadata": {},
   "source": [
    "Write a script that prints every third number between 10 and 30."
   ]
  },
  {
   "cell_type": "code",
   "execution_count": null,
   "id": "b273fcd2",
   "metadata": {},
   "outputs": [],
   "source": [
    "for num in range(10, 30, 3):\n",
    "    print(num)"
   ]
  },
  {
   "cell_type": "markdown",
   "id": "5d435825",
   "metadata": {},
   "source": [
    "Write a script that prints the sum of all numbers between 10 and 20 (inclusive)."
   ]
  },
  {
   "cell_type": "code",
   "execution_count": null,
   "id": "672f5eeb",
   "metadata": {},
   "outputs": [],
   "source": [
    "sum = 0\n",
    "for i in range(10, 20 + 1):\n",
    "    sum += i\n",
    "print(sum)"
   ]
  },
  {
   "cell_type": "markdown",
   "id": "afde0913",
   "metadata": {},
   "source": [
    "**Note**: `sum += i` is the same as `sum = sum + num`."
   ]
  },
  {
   "cell_type": "markdown",
   "id": "eb14f316",
   "metadata": {},
   "source": [
    "## Student Exercise"
   ]
  },
  {
   "cell_type": "markdown",
   "id": "10680e2c",
   "metadata": {},
   "source": [
    "### Problem 1\n",
    "Write a script that:\n",
    "* Accepts a number from user input\n",
    "* Prints all numbers prior to that number (inclusive)"
   ]
  },
  {
   "cell_type": "code",
   "execution_count": null,
   "id": "1d7ad0a6",
   "metadata": {},
   "outputs": [],
   "source": []
  },
  {
   "cell_type": "markdown",
   "id": "cd62e676",
   "metadata": {},
   "source": [
    "### Problem 2\n",
    "Write a script that:\n",
    "* Accepts a starting and ending number from user input\n",
    "* Prints every fifth number"
   ]
  },
  {
   "cell_type": "code",
   "execution_count": null,
   "id": "823349c6",
   "metadata": {},
   "outputs": [],
   "source": []
  },
  {
   "cell_type": "markdown",
   "id": "c5f84034",
   "metadata": {},
   "source": [
    "### Problem 3\n",
    "Write a script that:\n",
    "* Counts down from 100 to 0 \n",
    "* Prints \"Done\" when you get to 0"
   ]
  },
  {
   "cell_type": "code",
   "execution_count": null,
   "id": "4d424499",
   "metadata": {},
   "outputs": [],
   "source": []
  },
  {
   "cell_type": "markdown",
   "id": "87b77bf4",
   "metadata": {},
   "source": [
    "### Problem 4\n",
    "Write a script that prints all numbers between 0 and 50 that are divisible by 3."
   ]
  },
  {
   "cell_type": "code",
   "execution_count": null,
   "id": "34fc1fb7",
   "metadata": {},
   "outputs": [],
   "source": []
  },
  {
   "cell_type": "markdown",
   "id": "a29ea0ed",
   "metadata": {},
   "source": [
    "### Problem 5\n",
    "Write a script that:\n",
    "* Receives an IP address from user input\n",
    "* Prints the next five IP addresses\n",
    "* Hint: Use `split()` and `join()` methods"
   ]
  },
  {
   "cell_type": "code",
   "execution_count": null,
   "id": "b67fd4fa",
   "metadata": {},
   "outputs": [],
   "source": []
  },
  {
   "cell_type": "markdown",
   "id": "3659f53f",
   "metadata": {},
   "source": [
    "# Activity 4E: Counters\n",
    "\n",
    "## Introduction\n",
    "\n",
    "In some cases we need to count how many times a loop occurs or how many times a condition in the loop is met. In order to do that we use counters.\n",
    "\n",
    "Before we use them we need to initialize them. This means we declare an empty or zero value variable:\n",
    "`counter = 0`\n",
    "\n",
    "Each time we loop we will add 1 to the counter:\n",
    "`counter = counter + 1`\n",
    "\n",
    "Another way to write this is:\n",
    "`counter += 1` "
   ]
  },
  {
   "cell_type": "markdown",
   "id": "a5cbe519",
   "metadata": {},
   "source": [
    "## Instructor Demo\n",
    "`List_1 = [1, \"a\", 2, \"b\", 3, \"c\"]`\n",
    "\n",
    "Write a script that:\n",
    "* Iterates over this list\n",
    "* Counts how many elements are strings (Hint: use the `type` method)\n",
    "* Prints the result "
   ]
  },
  {
   "cell_type": "code",
   "execution_count": null,
   "id": "1f825f62",
   "metadata": {},
   "outputs": [],
   "source": [
    "counter = 0\n",
    "List_1 = [1, \"a\", 2, \"b\", 3, \"c\"]\n",
    "for char in List_1:\n",
    "    if type(char) == str:\n",
    "        counter += 1\n",
    "print(\"The number of strings is \"+str(counter))"
   ]
  },
  {
   "cell_type": "markdown",
   "id": "05af6454",
   "metadata": {},
   "source": [
    "Write a script that:\n",
    "* Iterates over the range 1 to 10 (not inclusive)\n",
    "* Counts how many even numbers are in this range\n",
    "* Prints the result "
   ]
  },
  {
   "cell_type": "code",
   "execution_count": null,
   "id": "14ccda42",
   "metadata": {},
   "outputs": [],
   "source": [
    "counter = 0\n",
    "for num in range(1,10):\n",
    "    if num % 2 == 0:\n",
    "      counter += 1\n",
    "print(counter)"
   ]
  },
  {
   "cell_type": "markdown",
   "id": "ba579bab",
   "metadata": {},
   "source": [
    "`word = \"popcorn\"`\n",
    "\n",
    "Write a script that:\n",
    "* Iterates over this string\n",
    "* Counts how many vowels are in this string \n",
    "* Prints the result"
   ]
  },
  {
   "cell_type": "code",
   "execution_count": null,
   "id": "4531a33c",
   "metadata": {},
   "outputs": [],
   "source": [
    "word = \"popcorn\"\n",
    "counter = 0\n",
    "for letter in word:\n",
    "    if letter in \"aeiouAEIOU\":\n",
    "        counter += 1\n",
    "print(\"There are \"+str(counter)+ \" vowels in this word \")"
   ]
  },
  {
   "cell_type": "markdown",
   "id": "443adb8f",
   "metadata": {},
   "source": [
    "# Activity 4F: Lessons 1-4 Review\n",
    "## Introduction \n",
    "In this activity, you'll be using new string methods to solve problems.\n",
    "\n",
    "``` isalnum(): ```\tReturns True if all characters in the string are alphanumeric\n",
    "\n",
    "```isalpha(): ```\tReturns True if all characters in the string are in the alphabet\n",
    "\n",
    "``` isascii(): ```\tReturns True if all characters in the string are ascii characters\n",
    "\n",
    "``` isdecimal(): ``` Returns True if all characters in the string are decimals\n",
    "\n",
    "``` isnumeric(): ``` Returns True if all characters are numeric\n",
    "\n",
    "``` isdigit(): ```\tReturns True if all characters in the string are digits\n",
    "\n",
    "```islower():```\tReturns True if all characters in the string are lower case\n",
    "\n",
    "```isupper(): ```\tReturns True if all characters in the string are upper case\n",
    "\n",
    "***Note***: For Problem 3, you can use `isnumeric`, `isdigit` or `isdecimal`. For our purposes they are all the same."
   ]
  },
  {
   "cell_type": "markdown",
   "id": "dcc37e85",
   "metadata": {},
   "source": [
    "## Student Exercise\n",
    "### Problem 1\n",
    "Write a script that:\n",
    "\n",
    "* Receives a word from user input\n",
    "* Counts how many capital letters are in the word\n",
    "* Prints the result\n",
    "* Hint: Use the `isupper()` method"
   ]
  },
  {
   "cell_type": "code",
   "execution_count": null,
   "id": "779b73a8",
   "metadata": {},
   "outputs": [],
   "source": []
  },
  {
   "cell_type": "markdown",
   "id": "bbbf522f",
   "metadata": {},
   "source": [
    "### Problem 2\n",
    "Write a script that:\n",
    "\n",
    "* Receives a word from user input\n",
    "* Counts how many special characters are in the word\n",
    "* Prints the result \n",
    "* Hint: Use the `isalnum()` method"
   ]
  },
  {
   "cell_type": "code",
   "execution_count": null,
   "id": "20e67224",
   "metadata": {},
   "outputs": [],
   "source": []
  },
  {
   "cell_type": "markdown",
   "id": "8ac73b26",
   "metadata": {},
   "source": [
    "### Problem 3\n",
    "Write a script that:\n",
    "\n",
    "* Receives a word from user input\n",
    "* Counts the number of digits in that word\n",
    "* Prints the result \n",
    "* Hint: Use the `isnumeric()` method"
   ]
  },
  {
   "cell_type": "code",
   "execution_count": null,
   "id": "c6cb6817",
   "metadata": {},
   "outputs": [],
   "source": []
  },
  {
   "cell_type": "markdown",
   "id": "44fe1f05",
   "metadata": {},
   "source": [
    "### Problem 4 \n",
    "`List_1 = [\"Poland\", \"Croatia\", \"Albania\", \"USA\", \"France\"]`\n",
    "\n",
    "Loop over this list and check how many words have a length of over six characters."
   ]
  },
  {
   "cell_type": "code",
   "execution_count": null,
   "id": "22ba07ea",
   "metadata": {},
   "outputs": [],
   "source": []
  },
  {
   "cell_type": "markdown",
   "id": "bfa2c9e8",
   "metadata": {},
   "source": [
    "### Problem 5\n",
    "Write a script that:\n",
    "* Receives a password from user input\n",
    "* Checks if the following conditions are met:\n",
    "  * At least one capital letter\n",
    "  * At least one digit\n",
    "  * At least one special character\n",
    "  * The length of it is more than 8\n",
    "* If all conditions are met, prints \"This is a strong password\"\n",
    "* If not, print \"This is a weak password\""
   ]
  },
  {
   "cell_type": "code",
   "execution_count": null,
   "id": "64caa90a",
   "metadata": {},
   "outputs": [],
   "source": []
  },
  {
   "cell_type": "markdown",
   "id": "5ce6fa91",
   "metadata": {},
   "source": [
    "## Student Exercise\n",
    "### Problem 6\n",
    "Write a script that prints every seventh number between 1 and 100."
   ]
  },
  {
   "cell_type": "code",
   "execution_count": null,
   "id": "208a69bb",
   "metadata": {},
   "outputs": [],
   "source": []
  },
  {
   "cell_type": "markdown",
   "id": "f15cd3f6",
   "metadata": {},
   "source": [
    "### Problem 7 \n",
    "Write a script that:\n",
    "* Receives two numbers from user input\n",
    "* Iterates over the values between the first and second number (inclusive)\n",
    "* Prints every number that is divisible by 3 and 5 "
   ]
  },
  {
   "cell_type": "code",
   "execution_count": null,
   "id": "dd8ceb2c",
   "metadata": {},
   "outputs": [],
   "source": []
  },
  {
   "cell_type": "markdown",
   "id": "ee2a2760",
   "metadata": {},
   "source": [
    "### Problem 8 \n",
    "Write a script that:\n",
    "* Receives a word from user input\n",
    "* Prints how many consonants (lowercase or capitalized) are in that word "
   ]
  },
  {
   "cell_type": "code",
   "execution_count": null,
   "id": "c4dd3a3c",
   "metadata": {},
   "outputs": [],
   "source": []
  },
  {
   "cell_type": "markdown",
   "id": "fe58c274",
   "metadata": {},
   "source": [
    "### Problem 9 \n",
    "`port_list = [22, 25, 80, 22, 21, 21, 22, 25, 80, 443, 1389, 389, 389, 443, 443, 80]`\n",
    "\n",
    "Write a script that:\n",
    "* Iterates over this list \n",
    "* Counts how many times port 80 appears in this list\n",
    "* Prints the result "
   ]
  },
  {
   "cell_type": "code",
   "execution_count": null,
   "id": "477a9cfe",
   "metadata": {},
   "outputs": [],
   "source": []
  }
 ],
 "metadata": {
  "kernelspec": {
   "display_name": "Python 3 (ipykernel)",
   "language": "python",
   "name": "python3"
  },
  "language_info": {
   "codemirror_mode": {
    "name": "ipython",
    "version": 3
   },
   "file_extension": ".py",
   "mimetype": "text/x-python",
   "name": "python",
   "nbconvert_exporter": "python",
   "pygments_lexer": "ipython3",
   "version": "3.10.5"
  }
 },
 "nbformat": 4,
 "nbformat_minor": 5
}
