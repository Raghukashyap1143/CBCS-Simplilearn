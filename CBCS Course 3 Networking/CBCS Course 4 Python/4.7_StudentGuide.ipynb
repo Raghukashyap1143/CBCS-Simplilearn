{
 "cells": [
  {
   "cell_type": "markdown",
   "id": "60e79600",
   "metadata": {},
   "source": [
    "# Lesson 4.7: Dictionaries\n",
    "# Activity 7A: What Are Dictionaries?\n",
    "\n",
    "\n",
    "## Introduction\n",
    "\n",
    "When you parse files you need a data type that can store information about what you retrieve. So if you have a number of usernames, IP addresses, or ports and you want to count them, a dictionary with its key/value pair will be useful.\n",
    "* The username will be the key\n",
    "* The value will be the number of logins by this user\n",
    "\n",
    "Once you have that data organized you can order it by the highest number of logins.\n",
    "\n",
    "Another reason to use a dictionary is to store information in an easy-to-read way by parsing information in a log file to a key/value form.\n",
    "\n",
    "When you parse a file you need a data type that can store the information you retrieve. We’ve already covered one data type, lists, that can store multiple pieces of information. But dictionaries are far more flexible. \n",
    "\n",
    "For example, let’s say we have a list of IP addresses, with each address belonging to a specific user’s machine. \n",
    "\n",
    "IP_addresses\n",
    "* `115.34.225.201 #Marta`\n",
    "* `166.199.144.36 #TaeHo`\n",
    "* `97.188.82.46 #Phil`\n",
    "* `202.44.140.187 #Uzo` \n",
    "* `154.236.84.239 #Julio`\n",
    "\n",
    "You can retrieve a particular user’s IP address via the index. \n",
    "\n",
    "`Marta_IP = IP_addresses[0]`\n",
    "\n",
    "However, you would have to remember which index is associated with each specific user. It would be better to do the following program to retrieve Marta’s IP. In fact, Python has a data structure that allows us to extract data. Let’s see how we can create a data type that would allow us to associate an IP address with a specific user. "
   ]
  },
  {
   "cell_type": "code",
   "execution_count": null,
   "id": "6bf90f55",
   "metadata": {},
   "outputs": [],
   "source": [
    "IP_addresses = {'Marta': '115.34.225.201', 'TaeHo': '166.199.144.36', 'Phil': '97.188.82.46' , 'Uzo': '202.44.140.187'} "
   ]
  },
  {
   "cell_type": "markdown",
   "id": "9e1b306d",
   "metadata": {},
   "source": [
    "Now if you want to retrieve Marta's IP it can be done by using this key/value connection."
   ]
  },
  {
   "cell_type": "code",
   "execution_count": null,
   "id": "ba53d003",
   "metadata": {},
   "outputs": [],
   "source": [
    "Marta_ip = IP_addresses['Marta']\n",
    "print(Marta_ip)"
   ]
  },
  {
   "cell_type": "markdown",
   "id": "a1dca012",
   "metadata": {},
   "source": [
    "You can do the same for each of the IPs."
   ]
  },
  {
   "cell_type": "code",
   "execution_count": null,
   "id": "e61da0f2",
   "metadata": {},
   "outputs": [],
   "source": [
    "Phil_ip = IP_addresses['Phil']\n",
    "print(Phil_ip)"
   ]
  },
  {
   "cell_type": "markdown",
   "id": "4a8a8d96",
   "metadata": {},
   "source": [
    "Let's take another example:"
   ]
  },
  {
   "cell_type": "code",
   "execution_count": null,
   "id": "7313ddca",
   "metadata": {},
   "outputs": [],
   "source": [
    "dict1={\"Name\":\"Paul\", \"Telephone\":\"(909)-(111111)\", \"Address\":\"155 Jasper\", \"State\":\"California\"}"
   ]
  },
  {
   "cell_type": "markdown",
   "id": "47c7cb30",
   "metadata": {},
   "source": [
    "If you want to access any of the fields, say the key you are interested in.\n",
    "    "
   ]
  },
  {
   "cell_type": "code",
   "execution_count": null,
   "id": "75f2873a",
   "metadata": {},
   "outputs": [],
   "source": [
    "print(\"The employee's name is: \"+dict1[\"Name\"])\n",
    "print(\"The employee's telephone is \"+dict1[\"Telephone\"])\n",
    "print(\"The employee's address is: \" + dict1[\"Address\"])\n",
    "print(\"The employee's state is: \" + dict1[\"State\"])"
   ]
  },
  {
   "cell_type": "markdown",
   "id": "deb0f4b0",
   "metadata": {},
   "source": [
    "Accessing a key that does not exist will raise an error."
   ]
  },
  {
   "cell_type": "code",
   "execution_count": null,
   "id": "e58eac93",
   "metadata": {},
   "outputs": [],
   "source": [
    "print(dict1[\"email\"])"
   ]
  },
  {
   "cell_type": "markdown",
   "id": "e1aad750",
   "metadata": {},
   "source": [
    "## Instructor Demo\n",
    "`dict_1 = {\"Name\":\"sarah\", \"age\":33, \"years of experience\":22}`\n",
    "\n",
    "Write a script that:\n",
    "* Prints the name\n",
    "* Prints the age \n",
    "* Prints the years of experience "
   ]
  },
  {
   "cell_type": "code",
   "execution_count": null,
   "id": "854b7061",
   "metadata": {},
   "outputs": [],
   "source": [
    "dict_1={\"Name\":\"sarah\", \"age\":33, \"years of experience\":22}\n",
    "print(\"The name is: \"+dict_1[\"Name\"])\n",
    "print(\"The age is: \"+ str(dict_1[\"age\"]))\n",
    "print(\"Years of experience: \"+ str(dict_1[\"years of experience\"]))"
   ]
  },
  {
   "cell_type": "markdown",
   "id": "a8bf7b05",
   "metadata": {},
   "source": [
    "## Student Exercise\n",
    "### Problem 1 \n",
    "\n",
    "`thisdict = {\"brand\":\"Ford\", \"model\": \"Mustang\", \"year\": 1964}`\n",
    "\n",
    "Write a script that:\n",
    "* Prints the brand of the car\n",
    "* Prints the model of the car \n",
    "* Prints the year of the car "
   ]
  },
  {
   "cell_type": "code",
   "execution_count": null,
   "id": "544cbff0",
   "metadata": {},
   "outputs": [],
   "source": []
  },
  {
   "cell_type": "markdown",
   "id": "b009001e",
   "metadata": {},
   "source": [
    "### Problem 2 \n",
    "`dict = {'Name':'Zara', 'Age':7, 'email':'Zara@email.com'}`\n",
    "\n",
    "Write a script that:\n",
    "* Prints the name \n",
    "* Prints the age\n",
    "* Prints the email "
   ]
  },
  {
   "cell_type": "code",
   "execution_count": null,
   "id": "846104a1",
   "metadata": {},
   "outputs": [],
   "source": []
  },
  {
   "cell_type": "markdown",
   "id": "c514dc2d",
   "metadata": {},
   "source": [
    "# Activity 7B: Creating Dictionaries\n",
    "## Introduction\n",
    "The syntax to create a dictionary is as simple as placing items in `{}` brackets and a colon `:` between the key and the value.\n",
    "\n",
    "`dictionary_name = {\"key\":value}`\n",
    "\n",
    "An item has a key and a corresponding value that is expressed as a pair (`key:value`). The key can be a string, number, or tuple. Each key in a dictionary must be unique. Values can be any data type, including lists and dictionaries. They do not need to be unique. \n",
    "\n",
    "Use the following scripts to create a new dictionary."
   ]
  },
  {
   "cell_type": "code",
   "execution_count": null,
   "id": "1da4feb8",
   "metadata": {},
   "outputs": [],
   "source": [
    "dict_1 = {}"
   ]
  },
  {
   "cell_type": "markdown",
   "id": "9240e0dd",
   "metadata": {},
   "source": [
    "To add a `key,value` pair:"
   ]
  },
  {
   "cell_type": "code",
   "execution_count": null,
   "id": "906251cb",
   "metadata": {},
   "outputs": [],
   "source": [
    "dict_1[\"user_name\"] = \"Paul\""
   ]
  },
  {
   "cell_type": "code",
   "execution_count": null,
   "id": "4b949255",
   "metadata": {},
   "outputs": [],
   "source": [
    "print(dict_1)"
   ]
  },
  {
   "cell_type": "markdown",
   "id": "df7f887f",
   "metadata": {},
   "source": [
    "We can keep adding information:"
   ]
  },
  {
   "cell_type": "code",
   "execution_count": null,
   "id": "f2333e2d",
   "metadata": {},
   "outputs": [],
   "source": [
    "dict_1[\"password\"] = \"passwd\"\n",
    "print(dict_1)"
   ]
  },
  {
   "cell_type": "code",
   "execution_count": null,
   "id": "3a2093a1",
   "metadata": {},
   "outputs": [],
   "source": [
    "dict_1[\"IP\"] = \"10.10.2.1\"\n",
    "print(dict_1)"
   ]
  },
  {
   "cell_type": "markdown",
   "id": "98f5defd",
   "metadata": {},
   "source": [
    "## Changing and Adding Dictionary Elements\n",
    "Dictionaries are mutable. We can add new items or change the value of existing items using an assignment operator. If the key is already present, then the existing value gets updated. If the key is not present, a new `key:value` pair is added to the dictionary."
   ]
  },
  {
   "cell_type": "code",
   "execution_count": null,
   "id": "03fc2094",
   "metadata": {},
   "outputs": [],
   "source": [
    "dict_1['IP'] = \"10.0.2.2\"\n",
    "print(dict_1)"
   ]
  },
  {
   "cell_type": "markdown",
   "id": "316d9f93",
   "metadata": {},
   "source": [
    "To add, create a `key:value` pair:"
   ]
  },
  {
   "cell_type": "code",
   "execution_count": null,
   "id": "5501a7d4",
   "metadata": {},
   "outputs": [],
   "source": [
    "dict_1['Port'] = 80\n",
    "print(dict_1)"
   ]
  },
  {
   "cell_type": "markdown",
   "id": "49dddc59",
   "metadata": {},
   "source": [
    "## Instructor Demo\n",
    "`keys = ['Ten', 'Twenty', 'Thirty']`\n",
    "\n",
    "`values = [10, 20, 30]`\n",
    "\n",
    "Write a script that creates a dictionary from these two lists."
   ]
  },
  {
   "cell_type": "code",
   "execution_count": null,
   "id": "f3bfd18f",
   "metadata": {},
   "outputs": [],
   "source": [
    "keys = ['Ten', 'Twenty', 'Thirty']\n",
    "values = [10, 20, 30]\n",
    "\n",
    "dict_1 = {\"Ten\":10, \"Twenty\":20, \"Thirty\":30}\n",
    "print(dict_1)"
   ]
  },
  {
   "cell_type": "markdown",
   "id": "92f44090",
   "metadata": {},
   "source": [
    "`dict2 = {'Thirty': 30, 'Forty': 40, 'Fifty': 50}`\n",
    "\n",
    "Write a script that:\n",
    "* Adds a `key,pair` value of  `Sixty:60` to the dictionary\n",
    "* Prints the list "
   ]
  },
  {
   "cell_type": "code",
   "execution_count": null,
   "id": "4d0816c2",
   "metadata": {},
   "outputs": [],
   "source": [
    "dict2 = {'Thirty': 30, 'Forty': 40, 'Fifty': 50}\n",
    "dict2[\"Sixty\"]=60\n",
    "print(dict2)"
   ]
  },
  {
   "cell_type": "markdown",
   "id": "416d304a",
   "metadata": {},
   "source": [
    "## Student Exercise\n",
    "### Problem 1 \n",
    "`dict_1 = {'Name':'Kelly', 'designation':'Developer', 'salary': 8000}`\n",
    "\n",
    "Write a script that:\n",
    "* Adds a `key:value` pair of `city, New York`\n",
    "* Prints the new list"
   ]
  },
  {
   "cell_type": "code",
   "execution_count": null,
   "id": "3f51d4f1",
   "metadata": {},
   "outputs": [],
   "source": []
  },
  {
   "cell_type": "markdown",
   "id": "d633636f",
   "metadata": {},
   "source": [
    "### Problem 2\n",
    "`dict_2 = {'Name':'Bob', 'designation':'accountant', 'salary': 9000}`\n",
    "\n",
    "Write a script that:\n",
    "* Updates Bob's salary to 8000\n",
    "* Prints the new list "
   ]
  },
  {
   "cell_type": "code",
   "execution_count": null,
   "id": "d9362d3e",
   "metadata": {},
   "outputs": [],
   "source": []
  },
  {
   "cell_type": "markdown",
   "id": "f8add9e3",
   "metadata": {},
   "source": [
    "# Activity 7C: Dictionary Methods\n",
    "* `clear()`: Removes all items from the dictionary.\n",
    "* `get(key[,d])`: Returns the value of the key. If the key does not exist, returns d (defaults to None).\n",
    "* `items()`: Returns a new object of the dictionary's items in (key, value) format.\n",
    "* `keys()`: Returns a new object of the dictionary's keys.\n",
    "* `pop(key[,d])`: Removes the item with the key and returns its value or d if key is not found. If d is not provided and the key is not found, it raises KeyError.\n",
    "* `popitem()`: Removes and returns an arbitrary item (key, value). Raises KeyError if the dictionary is empty.\n",
    "* `update([other])`: Updates the dictionary with the key/value pairs from other, overwriting existing keys.\n",
    "* `values()`: Returns a new object of the dictionary's values."
   ]
  },
  {
   "cell_type": "markdown",
   "id": "caa98081",
   "metadata": {},
   "source": [
    "## Instructor Demo\n",
    "`sample_dict = {'a': 100, 'b': 200, 'c': 300}`\n",
    "\n",
    "Write a script that:\n",
    "* Iterates over the dictionary \n",
    "* Prints only the keys of this dictionary "
   ]
  },
  {
   "cell_type": "code",
   "execution_count": null,
   "id": "20a58484",
   "metadata": {
    "scrolled": true
   },
   "outputs": [],
   "source": [
    "sample_dict = {'a': 100, 'b': 200, 'c': 300}\n",
    "for k in sample_dict.keys():\n",
    "    print(k)"
   ]
  },
  {
   "cell_type": "markdown",
   "id": "508afcb6",
   "metadata": {},
   "source": [
    "`sample_dict = {'a': 100, 'b': 200, 'c': 300}`\n",
    "\n",
    "Write a script that:\n",
    "* Checks if this dictionary has the value 200\n",
    "* If yes, prints \"200 is present in this dict\""
   ]
  },
  {
   "cell_type": "code",
   "execution_count": null,
   "id": "6c0a67da",
   "metadata": {},
   "outputs": [],
   "source": [
    "sample_dict = {'a': 100, 'b': 200, 'c': 300}\n",
    "if 200 in sample_dict.values():\n",
    "    print('200 is present in a dict')"
   ]
  },
  {
   "cell_type": "markdown",
   "id": "dd565126",
   "metadata": {},
   "source": [
    "Write a script that:\n",
    "* Iterates over the dictionary\n",
    "* Checks for the highest grade \n",
    "* Prints the highest grade "
   ]
  },
  {
   "cell_type": "code",
   "execution_count": null,
   "id": "30a65659",
   "metadata": {},
   "outputs": [],
   "source": [
    "sample_dict = {\n",
    "    'Physics': 82,\n",
    "    'Math': 65,\n",
    "    'history': 75\n",
    "}\n",
    "max=0\n",
    "\n",
    "for i in sample_dict.values():\n",
    "    if i>max:\n",
    "        max=i\n",
    "print(max)"
   ]
  },
  {
   "cell_type": "markdown",
   "id": "1f5ba269",
   "metadata": {},
   "source": [
    "Write a script that deletes the key/value pair of 'mani'"
   ]
  },
  {
   "cell_type": "code",
   "execution_count": null,
   "id": "fcc55574",
   "metadata": {},
   "outputs": [],
   "source": [
    "test_dict = {\"Arushi\": 22, \"Mani\": 21, \"Haritha\": 21}\n",
    " \n",
    "# Printing dictionary before removal\n",
    "print(\"The dictionary before performing remove is : \", test_dict)\n",
    " \n",
    "# Using del to remove a dict\n",
    "# removes Mani\n",
    "del test_dict['Mani']"
   ]
  },
  {
   "cell_type": "markdown",
   "id": "f1f5cd37",
   "metadata": {},
   "source": [
    "## Student Exercise\n",
    "### Problem 1\n",
    "`test_dict = {'sarah' : 3, 'sam' : 7, 'bob' : 10, 'hans' : 6, 'laura' : 30}`\n",
    "\n",
    "Write a script that:\n",
    "* Iterates over this dictionary\n",
    "* Prints all the key, value pairs under 7 "
   ]
  },
  {
   "cell_type": "code",
   "execution_count": null,
   "id": "9cddb7a8",
   "metadata": {},
   "outputs": [],
   "source": []
  },
  {
   "cell_type": "markdown",
   "id": "0dca6dc9",
   "metadata": {},
   "source": [
    "### Problem 2 \n",
    "`sample_dict = {\"name\":\"Kelly\", \"age\":25, \"salary\":8000, \"city\":\"New York\"}`\n",
    "\n",
    "Write a script that: \n",
    "* Deletes the city and salary key and value pairs\n",
    "* Prints the new dictionary"
   ]
  },
  {
   "cell_type": "code",
   "execution_count": null,
   "id": "6c082aee",
   "metadata": {},
   "outputs": [],
   "source": []
  },
  {
   "cell_type": "markdown",
   "id": "a160c193",
   "metadata": {},
   "source": [
    "### Problem 3\n",
    "`sample_dict = {\"laura\":5000, \"sarah\":2000, \"kelly\":8000, \"bob\":9000}`\n",
    "\n",
    "Write a script that:\n",
    "* Iterates over the salaries dictonary \n",
    "* Prints the highest salary "
   ]
  },
  {
   "cell_type": "code",
   "execution_count": null,
   "id": "1f08ccff",
   "metadata": {},
   "outputs": [],
   "source": []
  },
  {
   "cell_type": "markdown",
   "id": "bed98e80",
   "metadata": {},
   "source": [
    "# Activity 7D: Storing Results Into a Dictionary\n",
    "## Instructor Demo\n",
    "\n",
    "Let’s use this new data type to continue parsing the file from our last lesson:\n",
    "`/voc/public/passwd`"
   ]
  },
  {
   "cell_type": "code",
   "execution_count": null,
   "id": "4eae7982",
   "metadata": {},
   "outputs": [],
   "source": [
    "with open(\".voc/public/passwd\") as f:\n",
    "    for line in f.readlines():\n",
    "        dict = {}\n",
    "        list = line.split(\":\")\n",
    "        \n",
    "        \n",
    "        user = list[0]\n",
    "        dict[\"user\"] = user\n",
    "        description = list[4]\n",
    "        \n",
    "        dict[\"description\"] = description\n",
    "        home_dir = list[5]\n",
    "        dict[\"home_dir\"] = home_dir\n",
    "        print(dict)\n",
    "        print(\"***************\")"
   ]
  },
  {
   "cell_type": "markdown",
   "id": "16a544b6",
   "metadata": {},
   "source": [
    "Parse the `network.log` file and add the results to a dictionary."
   ]
  },
  {
   "cell_type": "code",
   "execution_count": null,
   "id": "5aa4a3a8",
   "metadata": {},
   "outputs": [],
   "source": [
    "with open(\".voc/public/access1.log\") as f:\n",
    "   for line in f.readlines():\n",
    "   #Initialize a dictionary \n",
    "     Dict_1 = {}\n",
    "     #parse the line \n",
    "     list1 = line.split()\n",
    "     ip_src = list1[0]\n",
    "     date = list1[3]\n",
    "     Http_method = list1[5]\n",
    "     response_code = list1[8]\n",
    "     user_agent = list1[11]\n",
    "#create a dictionary for different data\n",
    "     Dict_1 = {\"ip_src\":ip_src,\"date\":date,\"http_method\":Http_method,\"response_code\":response_code,\"user_agent\":user_agent}\n",
    "     print(Dict_1)"
   ]
  },
  {
   "cell_type": "markdown",
   "id": "fcf7dcdb",
   "metadata": {},
   "source": [
    "## Student Exercise"
   ]
  },
  {
   "cell_type": "markdown",
   "id": "8a7a0c1c",
   "metadata": {},
   "source": [
    "## Student Exercise\n",
    "### Problem 1 \n",
    "Write a script that:\n",
    "* Opens the `iptables` log \n",
    "* Iterates over the file line\n",
    "* Parses out the ip_src, id_dst, port_src and port_dst\n",
    "* Creates a dictionary from each data point\n",
    "* Prints the dictionaries "
   ]
  },
  {
   "cell_type": "code",
   "execution_count": null,
   "id": "d0dceca7",
   "metadata": {},
   "outputs": [],
   "source": []
  },
  {
   "cell_type": "markdown",
   "id": "77913e49",
   "metadata": {},
   "source": [
    "### Problem 2\n",
    "Write a script that:\n",
    "* Opens the `network` log\n",
    "* Iterates over the file \n",
    "* Parses out the ip_src, ip_dst, port_src and port_dst\n",
    "* Creates a dictionary from each data point\n",
    "* Prints the dictionaries"
   ]
  },
  {
   "cell_type": "code",
   "execution_count": null,
   "id": "508c229a",
   "metadata": {},
   "outputs": [],
   "source": []
  },
  {
   "cell_type": "markdown",
   "id": "c7927cab",
   "metadata": {},
   "source": [
    "# Activity 7E: Counting and Ordering \n",
    "Another use of dictionaries is the abilty to store the number of times a value appears in a log in an organized way. Now, the value itself is the key. If you want to count how many times a `source_ip` appears in a log, you can use a dictionary.\n",
    "\n",
    "Let's use the same `apache` log we used before."
   ]
  },
  {
   "cell_type": "code",
   "execution_count": null,
   "id": "39026341",
   "metadata": {},
   "outputs": [],
   "source": [
    "with open(\".voc/public/access1.log\") as f:\n",
    "   Dict_1 = {}\n",
    "   for line in f.readlines():\n",
    "   #Initialize a dictionary \n",
    "\n",
    "     #parse the line \n",
    "     list1 = line.split()\n",
    "     ip_src = list1[0]\n",
    "     if ip_src not in  Dict_1:\n",
    "        Dict_1[ip_src] = 1\n",
    "     else:\n",
    "        Dict_1[ip_src] += 1\n",
    "   print(Dict_1)"
   ]
  },
  {
   "cell_type": "markdown",
   "id": "848472bd",
   "metadata": {},
   "source": [
    "You can do the same thing to user_agent."
   ]
  },
  {
   "cell_type": "code",
   "execution_count": null,
   "id": "30e74220",
   "metadata": {},
   "outputs": [],
   "source": [
    "with open(\".voc/public/access1.log\") as f:\n",
    "   Dict_2 = {}\n",
    "   for line in f.readlines():\n",
    "   #Initialize a dictionary \n",
    "     \n",
    "     #parse the line \n",
    "     list1 = line.split()\n",
    "     user_agent = list1[11]\n",
    "\n",
    "     if user_agent not in  Dict_1:\n",
    "        Dict_2[user_agent] = 1\n",
    "     else:\n",
    "        Dict_2[user_agent] += 1\n",
    "     \n",
    "    \n",
    "   #print(Dict_1)\n",
    "   for k,v in Dict_2.items():\n",
    "        print(k+\":\"+str(v))\n",
    "        print(\"******************\")"
   ]
  },
  {
   "cell_type": "markdown",
   "id": "419bb163",
   "metadata": {},
   "source": [
    "## Student Exercise\n",
    "### Problem 1 \n",
    "Write a script that:\n",
    "* Opens the `iptables` log\n",
    "* Iterates over the file\n",
    "* Counts each destination IP\n",
    "* Puts the results in a dictionary "
   ]
  },
  {
   "cell_type": "code",
   "execution_count": null,
   "id": "38e8ab96",
   "metadata": {},
   "outputs": [],
   "source": []
  },
  {
   "cell_type": "markdown",
   "id": "01176f46",
   "metadata": {},
   "source": [
    "### Problem 2\n",
    "Write a script that:\n",
    "* Opens the `network` log \n",
    "* Iterates over the file \n",
    "* Counts each destination IP \n",
    "* Puts the results in a dictionary "
   ]
  },
  {
   "cell_type": "code",
   "execution_count": null,
   "id": "6fa23285",
   "metadata": {},
   "outputs": [],
   "source": []
  },
  {
   "cell_type": "markdown",
   "id": "5871668f",
   "metadata": {},
   "source": [
    "# Activity 7F: Ordering a List\n",
    "Now that you have a count of every value that we're interested in, order it to get the highest number. There are a couple of ways to do that.\n",
    "\n",
    "The `sorted()` function can accept three parameters: the iterable, the key, and reverse:\n",
    "`sorted(iterable, key, reverse)`\n",
    "\n",
    "* The first argument is to iterate through. In our case it is \n",
    "`Dict_1.items()` which will give us the keys and the values.\n",
    "* The second argument would be the field to sort through. In our case it is the second field or [1]. So we will add this argument.\n",
    "* The third argument is if we want to reverse the list or not."
   ]
  },
  {
   "cell_type": "code",
   "execution_count": null,
   "id": "e0bf1a68",
   "metadata": {},
   "outputs": [],
   "source": [
    "ordered_list = sorted(Dict_1.items(), key = lambda x: x[1],reverse = True)\n",
    "print(ordered_list)\n",
    "# The (), key = lambda"
   ]
  },
  {
   "cell_type": "code",
   "execution_count": null,
   "id": "aded20b5",
   "metadata": {},
   "outputs": [],
   "source": [
    "ordered_list = sorted(Dict_2.items(), key = lambda x: x[1],reverse = True)\n",
    "print(ordered_list)\n"
   ]
  },
  {
   "cell_type": "markdown",
   "id": "c7e6cbea",
   "metadata": {},
   "source": [
    "##  Instructor Demo\n",
    "Write a script that:\n",
    "* Opens the `dns.log` file\n",
    "* Iterates over the file\n",
    "* Counts each domain that appears in the log\n",
    "* Creates a dictionary that stores the count\n",
    "* Orders the dictionary \n",
    "* Prints the dictonary"
   ]
  },
  {
   "cell_type": "code",
   "execution_count": null,
   "id": "8d0bc4ef",
   "metadata": {},
   "outputs": [],
   "source": [
    "def count_query(f):\n",
    "   Dict_1 = {}\n",
    "   for  line in f.readlines():\n",
    "      \n",
    "         list_1 = line.split()\n",
    "         if \"A\" in list_1:   \n",
    "            domain = list_1[9]\n",
    "            if domain in Dict_1:\n",
    "    \n",
    "               Dict_1[domain] += 1\n",
    "            else:\n",
    "               Dict_1[domain] = 1\n",
    "  \n",
    "   ordered_list=sorted(Dict_1.items(), key = lambda x: x[1],reverse = True)\n",
    "   return(ordered_list)\n",
    "\n",
    "def main():\n",
    "\n",
    "   with open(\".voc/public/dns.log\") as f:\n",
    "      print(count_query(f))\n",
    "      \n",
    "main()"
   ]
  },
  {
   "cell_type": "markdown",
   "id": "9c9c5323",
   "metadata": {},
   "source": [
    "## Student Exercise\n",
    "### Problem 1 \n",
    "Write a script that:\n",
    "* Opens the `http.log` file\n",
    "* Iterates over the file\n",
    "* Counts each domain that appears in the log\n",
    "* Creates a dictionary that stores the count\n",
    "* Orders the dictionary \n",
    "* Prints the dictonary"
   ]
  },
  {
   "cell_type": "code",
   "execution_count": null,
   "id": "0e298fd9",
   "metadata": {},
   "outputs": [],
   "source": []
  }
 ],
 "metadata": {
  "kernelspec": {
   "display_name": "Python 3 (ipykernel)",
   "language": "python",
   "name": "python3"
  },
  "language_info": {
   "codemirror_mode": {
    "name": "ipython",
    "version": 3
   },
   "file_extension": ".py",
   "mimetype": "text/x-python",
   "name": "python",
   "nbconvert_exporter": "python",
   "pygments_lexer": "ipython3",
   "version": "3.10.5"
  }
 },
 "nbformat": 4,
 "nbformat_minor": 5
}
