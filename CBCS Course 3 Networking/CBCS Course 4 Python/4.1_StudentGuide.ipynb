{
 "cells": [
  {
   "cell_type": "markdown",
   "id": "73aaffb3",
   "metadata": {},
   "source": [
    "# Lesson 4.1: Variables\n",
    "\n",
    "# Activity 1A: Hello World\n",
    "\n",
    "## Instructor Demo\n",
    "\n",
    "There are two main versions of Python: 2.x and 3.x. Both of then come pre-installed on Linux systems. The one we are going use in this class is Python 3.x."
   ]
  },
  {
   "cell_type": "code",
   "execution_count": null,
   "id": "75aca8b7",
   "metadata": {},
   "outputs": [],
   "source": [
    "print (\"hello world\")"
   ]
  },
  {
   "cell_type": "markdown",
   "id": "61f03eed",
   "metadata": {},
   "source": [
    "## Student Exercise\n",
    "In the code line  write `print (\"hello world\")` and select Run. Observe the stdout."
   ]
  },
  {
   "cell_type": "code",
   "execution_count": null,
   "id": "a966a8eb",
   "metadata": {},
   "outputs": [],
   "source": []
  },
  {
   "cell_type": "markdown",
   "id": "7741753a",
   "metadata": {},
   "source": [
    "# Activity 1B: Variables and Data Types\n",
    "\n",
    "You can easily declare variables using the `=` operator. The operand to the left of the `=` operator is the name of the variable, and the operand to the right is the value stored in the variable.\n",
    "\n",
    "## Instructor Demo"
   ]
  },
  {
   "cell_type": "code",
   "execution_count": null,
   "id": "4c7665ad",
   "metadata": {},
   "outputs": [],
   "source": [
    "name = \"Miguel\"\n",
    "age = 35\n",
    "telphone_num = 909111112\n",
    "street_address = \"144 ocean beach\"\n",
    "city = \"San Diego\"\n",
    "email = \"123@gmail.com\"\n",
    "height = 5.6"
   ]
  },
  {
   "cell_type": "markdown",
   "id": "a2136843",
   "metadata": {},
   "source": [
    "Variables can store data of different types, and different types can complete different tasks.\n",
    "\n",
    "In this lesson we will cover three data types in Python: integers, floats, and strings.\n",
    "\n",
    "**Integers** are zero, positive or negative whole numbers. \n",
    "They can be of any length, e.g. 0, 100, -10."
   ]
  },
  {
   "cell_type": "code",
   "execution_count": null,
   "id": "c95d59db",
   "metadata": {},
   "outputs": [],
   "source": [
    "num_1 = 1 \n",
    "num_2 = 5\n",
    "num_3 = 7"
   ]
  },
  {
   "cell_type": "markdown",
   "id": "e8b86636",
   "metadata": {},
   "source": [
    "**Note:** In some languages you need to declare the type of variable. In Python it is a bit different. By putting a value into the \"box\", the box changes its type into an integer."
   ]
  },
  {
   "cell_type": "markdown",
   "id": "39b7bc4f",
   "metadata": {},
   "source": [
    "**Floats** represent the floating point number. These are numbers with decimal points. \n"
   ]
  },
  {
   "cell_type": "code",
   "execution_count": null,
   "id": "8c013641",
   "metadata": {},
   "outputs": [],
   "source": [
    "float_1 = 0.1\n",
    "float_2 = -1.7\n",
    "float_3 = 2.5"
   ]
  },
  {
   "cell_type": "markdown",
   "id": "3bbfbc4a",
   "metadata": {},
   "source": [
    "**Strings** are collections of alphabets, words, or other characters that are enclosed in quotation marks. \n"
   ]
  },
  {
   "cell_type": "code",
   "execution_count": null,
   "id": "b0a2cc68",
   "metadata": {},
   "outputs": [],
   "source": [
    "First_name = \"My name\"\n",
    "favorite_food = \"dumplings\"\n",
    "age = \"thirty five\""
   ]
  },
  {
   "cell_type": "markdown",
   "id": "dedf98d4",
   "metadata": {},
   "source": [
    "**Note:** Like integers, you don't need to declare the type. You do need to put the value in quotation marks which \"tells\" Python this is a string. Then, it creates a \"box\" for this type of value."
   ]
  },
  {
   "cell_type": "markdown",
   "id": "0d7cc232",
   "metadata": {},
   "source": [
    "Variables that are assigned can also be reassigned. Here, we declare a variable called `color` and assign it a value of “red”. Then, we reassign the variable to a value of “blue”. If we print the variable, it will print the most recently assigned value. "
   ]
  },
  {
   "cell_type": "code",
   "execution_count": null,
   "id": "f62f4bba",
   "metadata": {},
   "outputs": [],
   "source": [
    "color = \"red\"\n",
    "color = \"blue\"\n",
    "print(color)"
   ]
  },
  {
   "cell_type": "markdown",
   "id": "a0f5ed38",
   "metadata": {},
   "source": [
    "## Student Exercise\n",
    "* Create a variable called `my_name` and assign your name to it. Print it.\n",
    "* Create a variable called `telephone_number` and assign your telephone number to it. Print it.\n",
    "* Create variable called `email_address` and assign your email address to it. Print it."
   ]
  },
  {
   "cell_type": "code",
   "execution_count": null,
   "id": "ec38beb9",
   "metadata": {},
   "outputs": [],
   "source": []
  },
  {
   "cell_type": "markdown",
   "id": "9650b7f7",
   "metadata": {},
   "source": [
    "# Activity 1C: Type Method  and Casting \n",
    "We can tell which data type a variable contains by using the `type()` method. \n",
    "\n",
    "## Introduction\n",
    "\n",
    "### Data Types\n",
    "\n",
    "Declare a variable called `num` that has a value of 1."
   ]
  },
  {
   "cell_type": "code",
   "execution_count": null,
   "id": "72e0e419",
   "metadata": {},
   "outputs": [],
   "source": [
    "num_1 = 1"
   ]
  },
  {
   "cell_type": "markdown",
   "id": "bcd1b25b",
   "metadata": {},
   "source": [
    "What do you think the result of the following command will be?"
   ]
  },
  {
   "cell_type": "code",
   "execution_count": null,
   "id": "bf2fe9cf",
   "metadata": {},
   "outputs": [],
   "source": [
    "print(type(num_1))\n"
   ]
  },
  {
   "cell_type": "markdown",
   "id": "9dbf7186",
   "metadata": {},
   "source": [
    "Declare a variable that is a string."
   ]
  },
  {
   "cell_type": "code",
   "execution_count": null,
   "id": "03d7c23b",
   "metadata": {},
   "outputs": [],
   "source": [
    "str_1 = \"string\""
   ]
  },
  {
   "cell_type": "markdown",
   "id": "4ac4a9ec",
   "metadata": {},
   "source": [
    "What do you think the results of the next scripts will be? Run them to find out."
   ]
  },
  {
   "cell_type": "code",
   "execution_count": null,
   "id": "4ae0c3b3",
   "metadata": {},
   "outputs": [],
   "source": [
    "print(type(str_1))\n"
   ]
  },
  {
   "cell_type": "code",
   "execution_count": null,
   "id": "cc36b0cf",
   "metadata": {},
   "outputs": [],
   "source": [
    "num_1 = \"5\"\n",
    "print(type(num_1))\n"
   ]
  },
  {
   "cell_type": "markdown",
   "id": "fdbd5f99",
   "metadata": {},
   "source": [
    "**Note:** You may have noticed that the value assigned to the variable was a number, but the type is a string. Anything in quotes in Python will always be considered a string, even if it's a number."
   ]
  },
  {
   "cell_type": "markdown",
   "id": "fea51930",
   "metadata": {},
   "source": [
    "### Casting\n",
    "\n",
    "You can also change the data type of a variable. This is known as casting and it will come in handy later on when we are concatenating, or combining, different pieces of data. \n",
    "\n",
    "For now, just know that if you wanted to print a string with a number, you need to change that number data type to a string data type. \n",
    "\n",
    "Declare a variable called `str_1` and give it a string value of “1”."
   ]
  },
  {
   "cell_type": "code",
   "execution_count": null,
   "id": "eaa94f0f",
   "metadata": {},
   "outputs": [],
   "source": [
    "str_1 = \"1\"\n",
    "print(type(str_1))"
   ]
  },
  {
   "cell_type": "markdown",
   "id": "ec172812",
   "metadata": {},
   "source": [
    "To change the data type to an integer, use the following code.\n"
   ]
  },
  {
   "cell_type": "code",
   "execution_count": null,
   "id": "3d6961ac",
   "metadata": {},
   "outputs": [],
   "source": [
    "str_1 = int(str_1)"
   ]
  },
  {
   "cell_type": "markdown",
   "id": "c0f5eb77",
   "metadata": {},
   "source": [
    "This changes the value of `str_1` to a an integer data type. You can run the following code to confirm the change. \n"
   ]
  },
  {
   "cell_type": "code",
   "execution_count": null,
   "id": "6574f83e",
   "metadata": {},
   "outputs": [],
   "source": [
    "print(type(str_1))"
   ]
  },
  {
   "cell_type": "markdown",
   "id": "d01d7a4f",
   "metadata": {},
   "source": [
    "You can also cast the other way. Run the following code to observe the results."
   ]
  },
  {
   "cell_type": "code",
   "execution_count": null,
   "id": "f3fcdd66",
   "metadata": {},
   "outputs": [],
   "source": [
    "num_1 = 1\n",
    "print(type(num_1))\n",
    "\n",
    "num_1 = str(num_1)\n",
    "\n",
    "print(type(num_1))"
   ]
  },
  {
   "cell_type": "markdown",
   "id": "75286029",
   "metadata": {},
   "source": [
    "## Instructor Demo \n",
    "In this demo, we will:\n",
    "* Declare variables and determine the data types contained within them.\n",
    "* Perform casting between integers and strings."
   ]
  },
  {
   "cell_type": "code",
   "execution_count": null,
   "id": "d1b22632",
   "metadata": {},
   "outputs": [],
   "source": [
    "num_1 = 1\n",
    "num_2 = -35\n",
    "\n",
    "print(type(num_1))\n",
    "print(type(num_2))\n",
    "\n",
    "\n",
    "name = \"John Doe\"\n",
    "print(type(name))"
   ]
  },
  {
   "cell_type": "code",
   "execution_count": null,
   "id": "87650fb0",
   "metadata": {},
   "outputs": [],
   "source": [
    "float_1 = 1.10\n",
    "float_2 = -1.2\n",
    "\n",
    "print(type(float_1))\n",
    "print(type(float_2))"
   ]
  },
  {
   "cell_type": "code",
   "execution_count": null,
   "id": "34715fa8",
   "metadata": {},
   "outputs": [],
   "source": [
    "str_1 = \"hello world\"\n",
    "str_2 = \"5\"\n",
    "\n",
    "print(type(str_1))\n",
    "print(type(str_2))"
   ]
  },
  {
   "cell_type": "code",
   "execution_count": null,
   "id": "068d38a6",
   "metadata": {},
   "outputs": [],
   "source": [
    "num_1 = 23\n",
    "num_1 = str(num_1)\n",
    "print(type(num_1))\n",
    "\n"
   ]
  },
  {
   "cell_type": "code",
   "execution_count": null,
   "id": "d6fb2266",
   "metadata": {},
   "outputs": [],
   "source": [
    "str_3 = \"23\"\n",
    "str_3 = int(str_3)\n",
    "print(type(str_3))"
   ]
  },
  {
   "cell_type": "markdown",
   "id": "d57bbfde",
   "metadata": {},
   "source": [
    "Which data types and variables will result from the following script?"
   ]
  },
  {
   "cell_type": "code",
   "execution_count": null,
   "id": "bc61c915",
   "metadata": {},
   "outputs": [],
   "source": [
    "name = \"john\"\n",
    "age = 11\n",
    "price = 22.6\n",
    "price = 233\n",
    "country = \"USA\"\n"
   ]
  },
  {
   "cell_type": "markdown",
   "id": "e35876d7",
   "metadata": {},
   "source": [
    "## Student Exercise"
   ]
  },
  {
   "cell_type": "markdown",
   "id": "11b6bdc2",
   "metadata": {},
   "source": [
    "### Problem 1 \n",
    "* Create a variable called `age` and assign your age to it.\n",
    "* Print the type of the `age` variable."
   ]
  },
  {
   "cell_type": "code",
   "execution_count": null,
   "id": "47dfe015",
   "metadata": {},
   "outputs": [],
   "source": []
  },
  {
   "cell_type": "markdown",
   "id": "218a55ce",
   "metadata": {},
   "source": [
    "### Problem 2 \n",
    "`str1 = \"35\"`\n",
    "* Print the type of the `str1` variable.\n",
    "* Cast the variable to an integer.\n",
    "* Assign it to a new variable named `num1`.\n",
    "* Print the new type."
   ]
  },
  {
   "cell_type": "code",
   "execution_count": null,
   "id": "dcc403c6",
   "metadata": {},
   "outputs": [],
   "source": []
  },
  {
   "cell_type": "markdown",
   "id": "36bc52f1",
   "metadata": {},
   "source": [
    "### Problem 3 \n",
    "`my_course = \"cybersecurity analyst\"`\n",
    "\n",
    "Print the type of the `my_course` variable. "
   ]
  },
  {
   "cell_type": "code",
   "execution_count": null,
   "id": "68043e79",
   "metadata": {},
   "outputs": [],
   "source": []
  },
  {
   "cell_type": "markdown",
   "id": "bd8c5136",
   "metadata": {},
   "source": [
    "\n",
    "# Activity 1D: Arithmetic Operators \n",
    "\n",
    "## Introduction\n",
    "Next we'll look at arithmetic operators in Python and how variables and data types can be easily manipulated using simple arithmetic. \n",
    "We can take variables that contain numeric values and use arithmetic symbols like plus (`+`) for addition, dash (`-`) for subtraction, star (`*`) for multiplication, and forward slash (`/`) for division. \n",
    "\n",
    "In the following list, assume `variable a = 10` and `variable b = 20`. \n",
    "\n",
    "Addition (+)\n",
    "* Adds values on either side of the operator.\n",
    "* `a + b = 30`\n",
    "\n",
    "Subtraction (-)\n",
    "* Subtracts right hand operand from left hand operand.\n",
    "* `a – b = -10`\n",
    "\n",
    "Multiplication (*)\n",
    "* Multiplies values on either side of the operator\n",
    "* `a * b = 200`\n",
    "\n",
    "Division (/)\n",
    "* Divides left hand operand by right hand operand\n",
    "* `b / a = 2`\n",
    "\n",
    "Modulus (%)\n",
    "* The remainder of the division of 2 numbers\n",
    "* `b % a = 0`\n",
    "\n",
    "**Note:** Variables that contain string values can also be combined together using the `+` or the `*` operator. We will see this later on in the lesson. "
   ]
  },
  {
   "cell_type": "markdown",
   "id": "ec4ebc4a",
   "metadata": {},
   "source": [
    "##  Instructor Demo\n",
    "### Multiplication"
   ]
  },
  {
   "cell_type": "code",
   "execution_count": null,
   "id": "9ba2c262",
   "metadata": {},
   "outputs": [],
   "source": [
    "number_1 = 20\n",
    "number_2 = 30\n",
    "print(\"The result is :\",number_1 * number_2)"
   ]
  },
  {
   "cell_type": "markdown",
   "id": "68543cc1",
   "metadata": {},
   "source": [
    "### Addition"
   ]
  },
  {
   "cell_type": "code",
   "execution_count": null,
   "id": "71d85963",
   "metadata": {},
   "outputs": [],
   "source": [
    "number_1 = 40\n",
    "number_2 = 30\n",
    "print(\"The sum of the 2 numbers is \", number_1 + number_2)"
   ]
  },
  {
   "cell_type": "markdown",
   "id": "d1105465",
   "metadata": {},
   "source": [
    "### Division"
   ]
  },
  {
   "cell_type": "code",
   "execution_count": null,
   "id": "5a054de2",
   "metadata": {},
   "outputs": [],
   "source": [
    "number_1 = 120\n",
    "number_2 = 7\n",
    "print(\"The division of these 2 numbers is \",number_1 / number_2)"
   ]
  },
  {
   "cell_type": "markdown",
   "id": "d8de7ec5",
   "metadata": {},
   "source": [
    "### Modulus"
   ]
  },
  {
   "cell_type": "code",
   "execution_count": null,
   "id": "3aadfeb6",
   "metadata": {},
   "outputs": [],
   "source": [
    "number_1 = 35\n",
    "number_2 = 10\n",
    "print(\"The modulus of these numbers is \",number_1 % number_2)"
   ]
  },
  {
   "cell_type": "markdown",
   "id": "d1fdfc19",
   "metadata": {},
   "source": [
    "## Student Exercise"
   ]
  },
  {
   "cell_type": "markdown",
   "id": "450f9943",
   "metadata": {},
   "source": [
    "### Problem 1 \n",
    "* Create a variable called `car_name` and assign the value “GMC” to it.\n",
    "* Create a variable called `year` and assign the value 2002 to it.\n",
    "* Create a variable called `price` and assign the value 10000 to it.\n",
    "* Print the value of each variables."
   ]
  },
  {
   "cell_type": "code",
   "execution_count": null,
   "id": "60f0756b",
   "metadata": {},
   "outputs": [],
   "source": []
  },
  {
   "cell_type": "markdown",
   "id": "df194cf8",
   "metadata": {},
   "source": [
    "### Problem 2\n",
    "* Create 2 variables called `num_1` and `num_2`. Assign any number to each.\n",
    "* Print the sum of `num_1` and `num_2`.\n",
    "* Print the product of `num_1` and `num_2`.\n",
    "* Print the quotient of `num_1` by `num_2`.\n",
    "* Print the remainder of the division of `num_1` by `num_2`."
   ]
  },
  {
   "cell_type": "code",
   "execution_count": null,
   "id": "5a23aa40",
   "metadata": {},
   "outputs": [],
   "source": []
  },
  {
   "cell_type": "markdown",
   "id": "e9e9e96e",
   "metadata": {},
   "source": [
    "### Problem 3\n",
    "* Create two variables: `num_int` and `num_str`.\n",
    "* Have `num_int` contain the integer value 4.\n",
    "* Have `num_str` contain the string value ”5”.\n",
    "* Print the sum of the two numbers.\n"
   ]
  },
  {
   "cell_type": "code",
   "execution_count": null,
   "id": "d4b0737b",
   "metadata": {},
   "outputs": [],
   "source": []
  },
  {
   "cell_type": "markdown",
   "id": "218ccd83",
   "metadata": {},
   "source": [
    "# Activity 1E: Concatenation\n",
    "\n",
    "Two strings can be concatenated, or joined, using the `+` operator.\n",
    "\n",
    "## Instructor Demo"
   ]
  },
  {
   "cell_type": "code",
   "execution_count": null,
   "id": "7158e7d2",
   "metadata": {},
   "outputs": [],
   "source": [
    "string_1 = \"hello\"\n",
    "string_2 = \"world \"\n",
    "string_combined = string_1 + string_2\n",
    "print(string_combined)"
   ]
  },
  {
   "cell_type": "markdown",
   "id": "1c793500",
   "metadata": {},
   "source": [
    "If you want to separate the two strings while printing, use a blank space as indicated by the empty quotes."
   ]
  },
  {
   "cell_type": "code",
   "execution_count": null,
   "id": "fea57415",
   "metadata": {},
   "outputs": [],
   "source": [
    "string_1 = \"hello\"\n",
    "string_2 = \"world\"\n",
    "string_combined = string_1+\" \"+string_2\n",
    "print(string_combined)"
   ]
  },
  {
   "cell_type": "markdown",
   "id": "af2ec3ba",
   "metadata": {},
   "source": [
    "The same string can be repeated by n times using `string * n`.\n"
   ]
  },
  {
   "cell_type": "code",
   "execution_count": null,
   "id": "3e2e8190",
   "metadata": {},
   "outputs": [],
   "source": [
    "string_1 = \"helloworld \"\n",
    "print(string_1 * 2)\n",
    "print(string_1 * 3)\n",
    "print(string_1 * 4)\n",
    "print(string_1 * 5)\n"
   ]
  },
  {
   "cell_type": "markdown",
   "id": "fc9a483c",
   "metadata": {},
   "source": [
    "## Student Exercise"
   ]
  },
  {
   "cell_type": "markdown",
   "id": "c1abb6f5",
   "metadata": {},
   "source": [
    "###  Problem 1\n",
    "* Create 2 variables, `f_name` and  `l_name`.\n",
    "* Assign your first and last name to the variables.\n",
    "* Print and concatenate your first and last name."
   ]
  },
  {
   "cell_type": "code",
   "execution_count": null,
   "id": "91f03d67",
   "metadata": {},
   "outputs": [],
   "source": []
  },
  {
   "cell_type": "markdown",
   "id": "c07c4aab",
   "metadata": {},
   "source": [
    "### Problem 2 \n",
    "* Create a variable named `var_1`.\n",
    "* Assign a value of your name to it.\n",
    "* Print the variable 50 times."
   ]
  },
  {
   "cell_type": "code",
   "execution_count": null,
   "id": "11ebddad",
   "metadata": {},
   "outputs": [],
   "source": []
  },
  {
   "cell_type": "markdown",
   "id": "5313d88f",
   "metadata": {},
   "source": [
    "### Problem 3\n",
    "* Create a variable called `my_car`. Assign a favorite car name or type to it.\n",
    "* Print a statement that says \"My favorite car is [favorite car name or type].\"\n"
   ]
  },
  {
   "cell_type": "code",
   "execution_count": null,
   "id": "fc562283",
   "metadata": {},
   "outputs": [],
   "source": []
  },
  {
   "cell_type": "markdown",
   "id": "0f8990d6",
   "metadata": {},
   "source": [
    "# Activity 1F: Getting User Input \n",
    "## Introduction\n",
    "\n",
    "Sometimes we need to receive values for variables from a user. This makes the program more interactive and flexible.\n",
    "\n",
    "There are built-in methods in Python to receive input from a user. Let's take a look at `input()`. This method will always return a string to the variable, no matter what the user puts in as input.\n",
    "\n",
    "In the following example, the program displays the prompt (`“Please enter your first name: ”`) and waits for the user to take action. \n",
    "\n",
    "Note: When using the `input()` command, we always have to put quotes around the values. \n"
   ]
  },
  {
   "cell_type": "code",
   "execution_count": null,
   "id": "a4db0ec1",
   "metadata": {},
   "outputs": [],
   "source": [
    "f_name = input(\"please enter your first name:\")\n",
    "print(f_name)\n"
   ]
  },
  {
   "cell_type": "markdown",
   "id": "09ba6568",
   "metadata": {},
   "source": [
    "## Instructor Demo:\n",
    "\n",
    "In this demo, we will receive a name from the user using the `input()` method and then print it. "
   ]
  },
  {
   "cell_type": "code",
   "execution_count": null,
   "id": "0e6ab79e",
   "metadata": {},
   "outputs": [],
   "source": [
    "First_name = input(\"What is your first name?\")\n",
    "Last_name = input(\"What is your last name?\")\n",
    "City = input(\"Where do you live?\")\n",
    "print(\"My name is: \"+First_name+\" \" +Last_name+\" \"+\" and I live in : \"+City)\n"
   ]
  },
  {
   "cell_type": "markdown",
   "id": "db5d3bae",
   "metadata": {},
   "source": [
    "## Student Exercise\n",
    "\n",
    "* Create two variables, `my_name` and `neighbors_name`. They should take the input of your first name and your neighbor's first name.\n",
    "* Create two more variables, `my_age`, `neighbors_age`. They should the input of your age and your neighbor's age. \n",
    "* Create another variable, `total_years`. This should crate the sum of your age and your neighbor's age.\n",
    "* Print the following statements:\n",
    "    * \"I am [my_name] and my neighbor is [neighbor_name].\"\n",
    "    * \"Together our age is [total_years].\"\n"
   ]
  },
  {
   "cell_type": "code",
   "execution_count": null,
   "id": "5a0107e6",
   "metadata": {},
   "outputs": [],
   "source": []
  }
 ],
 "metadata": {
  "kernelspec": {
   "display_name": "Python 3 (ipykernel)",
   "language": "python",
   "name": "python3"
  },
  "language_info": {
   "codemirror_mode": {
    "name": "ipython",
    "version": 3
   },
   "file_extension": ".py",
   "mimetype": "text/x-python",
   "name": "python",
   "nbconvert_exporter": "python",
   "pygments_lexer": "ipython3",
   "version": "3.10.5"
  }
 },
 "nbformat": 4,
 "nbformat_minor": 5
}
