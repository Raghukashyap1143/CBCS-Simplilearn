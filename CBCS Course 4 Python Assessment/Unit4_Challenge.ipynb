{
 "cells": [
  {
   "cell_type": "markdown",
   "id": "19eaaa40",
   "metadata": {},
   "source": [
    "# Unit 4: Challenge\n",
    "\n",
    "## Problem 1 \n",
    "\n",
    "1. Open the `exam.log` file.\n",
    "\n",
    "\n",
    "2. Write a function ```ip_result``` that:\n",
    "* Searches for lines with IP\n",
    "* Counts the number of each IP\n",
    "* Puts the results in a dictionary\n",
    "* Sorts the dictionary \n",
    "* Puts the results into a file\n",
    "\n",
    "3. Write a function ```invalid_user_count``` that:\n",
    "\n",
    "* Searches for invalid user logins \n",
    "* Counts the invalid  logins for each user \n",
    "* Puts the results in a dictionary\n",
    "* Sorts the dictionary\n",
    "* Puts the result into a file \n",
    "\n",
    "4. Write a function `failed_logins` that:\n",
    "\n",
    "* Searches for wrong passwords\n",
    "* Counts the failed logins\n",
    "* Puts the results in a dictionary\n",
    "* Sorts the dictionary\n",
    "* Puts the result in a file\n",
    "\n",
    "5. Call the functions"
   ]
  },
  {
   "cell_type": "code",
   "execution_count": null,
   "id": "6f509a7d",
   "metadata": {},
   "outputs": [],
   "source": []
  },
  {
   "cell_type": "markdown",
   "id": "04b6c961",
   "metadata": {},
   "source": [
    "## Problem 2 \n",
    "Analyze the following code that reads the `apache_logs.txt` file. Determine what it does. Write your response as code comments."
   ]
  },
  {
   "cell_type": "code",
   "execution_count": null,
   "id": "eb345d0e",
   "metadata": {},
   "outputs": [],
   "source": [
    "import sys\n",
    "import os\n",
    "\n",
    "def readfile(f):\n",
    "    openfile = open(f,\"r\")\n",
    "\n",
    "    unique_outfile = open(\"uniqueIP.txt\",\"w\")\n",
    "    all_outfile = open(\"allIP.txt\",\"w\")\n",
    "    ipAndUrl_outfile = open(\"ipAndUrl.txt\",\"w\")\n",
    "\n",
    "    lines = []\n",
    "    ipAndUrl = {}\n",
    "    ip_list = set()\n",
    "\n",
    "    for line in openfile:\n",
    "        lines.append(line.strip('\\n'))\n",
    "\n",
    "    for line in lines:\n",
    "        ip = line.split(\" \")[0]\n",
    "\n",
    "        if ip in ipAndUrl:\n",
    "            ipAndUrl[ip].append(line.split(\" \")[6])\n",
    "        else:\n",
    "            ipAndUrl[ip] = [line.split(\" \")[6]]\n",
    "        \n",
    "        all_outfile.write(ip)\n",
    "        all_outfile.write(\"\\n\")\n",
    "\n",
    "        ip_list.add(ip)\n",
    "\n",
    "    for ip in ip_list:\n",
    "        unique_outfile.write(ip)\n",
    "        unique_outfile.write(\"\\n\")\n",
    "\n",
    "    for key, value in ipAndUrl.items(): \n",
    "        ipAndUrl_outfile.write('%s  %s\\n' % (key, value))\n",
    "\n",
    "    unique_outfile.close()\n",
    "    ipAndUrl_outfile.close()\n",
    "    all_outfile.close()\n",
    "    openfile.close()\n",
    "\n",
    "def Main():\n",
    "    file=input(\"please enter a file name: \")\n",
    "\n",
    "    result = readfile(file)\n",
    "\n",
    "if __name__ == '__main__':\n",
    "      \n",
    "    Main()"
   ]
  }
 ],
 "metadata": {
  "kernelspec": {
   "display_name": "Python 3 [3.10]",
   "language": "python",
   "name": "python3"
  },
  "language_info": {
   "codemirror_mode": {
    "name": "ipython",
    "version": 3
   },
   "file_extension": ".py",
   "mimetype": "text/x-python",
   "name": "python",
   "nbconvert_exporter": "python",
   "pygments_lexer": "ipython3",
   "version": "3.10.2"
  }
 },
 "nbformat": 4,
 "nbformat_minor": 5
}
