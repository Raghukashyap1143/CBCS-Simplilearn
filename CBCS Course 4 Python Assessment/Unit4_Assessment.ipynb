{
 "cells": [
  {
   "cell_type": "markdown",
   "id": "5e25cbe9",
   "metadata": {},
   "source": [
    "# Unit 4 Career Preparation: Technical Assessment\n",
    "## Problem 1"
   ]
  },
  {
   "cell_type": "markdown",
   "id": "24b8ca39",
   "metadata": {},
   "source": [
    "Write a script that:\n",
    "* Reads the file `problem1.txt`.\n",
    "* Adds each line to a new list.\n",
    "* Prints the new list."
   ]
  },
  {
   "cell_type": "code",
   "execution_count": null,
   "id": "55350ae5",
   "metadata": {},
   "outputs": [],
   "source": []
  },
  {
   "cell_type": "markdown",
   "id": "62a4d05b",
   "metadata": {},
   "source": [
    "## Problem 2\n",
    "\n",
    "Write a script that:\n",
    "*  Reads the file `problem2.txt`.\n",
    "*  Counts how many times 192.168.1.1 appears in the file.\n",
    "*  Prints the result."
   ]
  },
  {
   "cell_type": "code",
   "execution_count": null,
   "id": "0588da9b",
   "metadata": {},
   "outputs": [],
   "source": []
  },
  {
   "cell_type": "markdown",
   "id": "a8f18cc3",
   "metadata": {},
   "source": [
    "## Problem 3\n",
    "Write a script using a function (`dedupe`) that:\n",
    "* Takes a list `l = [1,5,7,2,4,3,5,1,6,2,6]`.\n",
    "* Returns a new list that contains all of the elements from the first list, excluding duplicates."
   ]
  },
  {
   "cell_type": "code",
   "execution_count": null,
   "id": "2e9726dc",
   "metadata": {},
   "outputs": [],
   "source": []
  },
  {
   "cell_type": "markdown",
   "id": "35690b6d",
   "metadata": {},
   "source": [
    "## Problem 4\n",
    "\n",
    "Write a program (using a function) that:\n",
    "* Asks the user for a long string containing multiple words.\n",
    "* Prints back the same string, except with the words in reverse order.\n",
    "\n",
    "For example, if the user types the string: 'My name is robert', it will print 'robert is name My'."
   ]
  },
  {
   "cell_type": "code",
   "execution_count": null,
   "id": "f2698a06",
   "metadata": {},
   "outputs": [],
   "source": []
  },
  {
   "cell_type": "markdown",
   "id": "131ef586",
   "metadata": {},
   "source": [
    "## Problem 5\n",
    "\n",
    "Write a script that:\n",
    "* Opens the file `problem5.txt`.\n",
    "* Counts each port and puts the results in a dictionary."
   ]
  },
  {
   "cell_type": "code",
   "execution_count": null,
   "id": "c16fcb2a",
   "metadata": {},
   "outputs": [],
   "source": []
  }
 ],
 "metadata": {
  "kernelspec": {
   "display_name": "Python 3 [3.10]",
   "language": "python",
   "name": "python3"
  },
  "language_info": {
   "codemirror_mode": {
    "name": "ipython",
    "version": 3
   },
   "file_extension": ".py",
   "mimetype": "text/x-python",
   "name": "python",
   "nbconvert_exporter": "python",
   "pygments_lexer": "ipython3",
   "version": "3.10.2"
  }
 },
 "nbformat": 4,
 "nbformat_minor": 5
}
